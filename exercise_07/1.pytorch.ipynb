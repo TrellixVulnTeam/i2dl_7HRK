{
 "cells": [
  {
   "cell_type": "markdown",
   "metadata": {},
   "source": [
    "# PyTorch Introduction\n",
    "\n",
    "This is an introduction of PyTorch. It’s a Python-based scientific computing package targeted at two sets of audiences:\n",
    "\n",
    "- A replacement for NumPy to use the power of GPUs;\n",
    "\n",
    "- a deep learning research platform that provides maximum flexibility and speed.\n",
    "    - [`torch.Tensor`](https://pytorch.org/docs/stable/tensors.html) is the central class of PyTorch.\n",
    "\n",
    "    - Central to all neural networks in PyTorch is the [`autograd`](https://pytorch.org/docs/stable/autograd.html)\n",
    "    package. It provides automatic differentiation for all\n",
    "    operations on Tensors. If we set the attribute `.requires_grad` of `torch.Tensor` as `True`, it starts to\n",
    "    track all operations on it. When finishing computation, we can call `.backward()` and have all the gradients\n",
    "    computed automatically. The gradient for this tensor will be accumulated into `.grad` attribute.\n",
    "\n",
    "\n",
    "## Goals of this tutorial\n",
    "\n",
    "- Understanding PyTorch's Tensor library and neural networks at a high level;\n",
    "\n",
    "- Training a small network with PyTorch;\n",
    "\n",
    "\n",
    "## Preparation\n",
    "\n",
    "- Install [PyTorch](https://pytorch.org/) and [torchvision](https://github.com/pytorch/vision) (CPU version); (**If you want to install a cuda version, remember to change the type of the following cell into markdown**)\n",
    "\n",
    "\n"
   ]
  },
  {
   "cell_type": "markdown",
   "metadata": {
    "pycharm": {
     "name": "#%%\n"
    }
   },
   "source": [
    "# Linux and probably Windows, remove the \"> /dev/null\" if you want to see the output\n",
    "!pip install torch==1.4.0+cpu torchvision==0.5.0+cpu -f https://download.pytorch.org/whl/torch_stable.html > /dev/null\n",
    "# Mac\n",
    "#!pip install torch==1.4.0 torchvision==0.5.0 > /dev/null"
   ]
  },
  {
   "cell_type": "markdown",
   "metadata": {
    "pycharm": {
     "name": "#%% md\n"
    }
   },
   "source": [
    "- <div class=\"alert alert-block alert-info\"><b>(Optional)</b> You can also install a\n",
    "<a href=\"https://developer.nvidia.com/cuda-downloads\">Cuda</a>\n",
    "version if an Nvidia GPU and Cuda setup is installed on your machine, e.g.</div>\n",
    "\n",
    "```python\n",
    "# CUDA 10.0\n",
    "pip install torch==1.4.0+cu100 torchvision==0.5.0+cu100 -f https://download.pytorch.org/whl/torch_stable.html\n",
    "```\n",
    "- <div class=\"alert alert-block alert-danger\">Make sure you've installed the <b>same version of PyTorch and\n",
    " torchvision</b>. If you install your own version, there might be some issues.</div>"
   ]
  },
  {
   "cell_type": "code",
   "execution_count": 2,
   "metadata": {
    "scrolled": true
   },
   "outputs": [
    {
     "name": "stdout",
     "output_type": "stream",
     "text": [
      "Looking in links: https://download.pytorch.org/whl/torch_stable.html\n",
      "Note: you may need to restart the kernel to use updated packages.\n"
     ]
    },
    {
     "name": "stderr",
     "output_type": "stream",
     "text": [
      "ERROR: Could not find a version that satisfies the requirement torch==1.4.0+cu100 (from versions: 0.1.2, 0.1.2.post1, 0.1.2.post2, 0.4.1, 1.0.0, 1.0.1, 1.1.0, 1.2.0, 1.2.0+cpu, 1.2.0+cu92, 1.3.0, 1.3.0+cpu, 1.3.0+cu92, 1.3.1, 1.3.1+cpu, 1.3.1+cu92, 1.4.0, 1.4.0+cpu, 1.4.0+cu92, 1.5.0, 1.5.0+cpu, 1.5.0+cu101, 1.5.0+cu92)\n",
      "ERROR: No matching distribution found for torch==1.4.0+cu100\n"
     ]
    }
   ],
   "source": [
    "pip install torch==1.4.0+cu100 torchvision==0.5.0+cu100 -f https://download.pytorch.org/whl/torch_stable.html"
   ]
  },
  {
   "cell_type": "code",
   "execution_count": 4,
   "metadata": {
    "pycharm": {
     "name": "#%%\n"
    },
    "tags": []
   },
   "outputs": [
    {
     "output_type": "stream",
     "name": "stdout",
     "text": "Torch version: 1.6.0\nTorchvision version: 0.7.0\n\nyou are using an another version of PyTorch. We expect PyTorch 1.4.0. You can continue with your version but it might cause some issues\nyou are using an another version of torchvision. We expect torchvision 0.5.0. You can continue with your version but it might cause some issues\n"
    }
   ],
   "source": [
    "import torch\n",
    "import torchvision\n",
    "print(f\"Torch version: {torch.__version__}\\nTorchvision version: {torchvision.__version__}\\n\")\n",
    "if not torch.__version__.startswith(\"1.4.0\"):\n",
    "    print(\"you are using an another version of PyTorch. We expect PyTorch 1.4.0. You can continue with your version but it\"\n",
    "          \" might cause some issues\")\n",
    "if not torchvision.__version__.startswith(\"0.5.0\"):\n",
    "    print(\"you are using an another version of torchvision. We expect torchvision 0.5.0. You can continue with your version but it\"\n",
    "          \" might cause some issues\")"
   ]
  },
  {
   "cell_type": "markdown",
   "metadata": {
    "pycharm": {
     "name": "#%% md\n"
    }
   },
   "source": [
    "## 1. Getting Started\n",
    "\n",
    "In this session you will learn the basic element Tensor and some simple oprations of PyTorch."
   ]
  },
  {
   "cell_type": "code",
   "execution_count": 5,
   "metadata": {
    "pycharm": {
     "is_executing": true,
     "name": "#%%\n"
    }
   },
   "outputs": [],
   "source": [
    "import numpy as np\n",
    "import matplotlib.pyplot as plt\n",
    "import torchvision.transforms as transforms\n",
    "from torch.utils.data.sampler import SubsetRandomSampler\n",
    "\n",
    "import os\n",
    "import pandas as pd\n",
    "pd.options.mode.chained_assignment = None  # default='warn'\n",
    "\n",
    "%load_ext autoreload\n",
    "%autoreload 2\n",
    "%matplotlib inline"
   ]
  },
  {
   "cell_type": "markdown",
   "metadata": {
    "pycharm": {
     "name": "#%% md\n"
    }
   },
   "source": [
    "### 1.1 Tensors\n",
    "\n",
    "Tensors are similar to NumPy’s ndarrays, with the addition being that Tensors can also be used on a GPU to accelerate\n",
    "computing."
   ]
  },
  {
   "cell_type": "code",
   "execution_count": 6,
   "metadata": {
    "pycharm": {
     "is_executing": true,
     "name": "#%%\n"
    },
    "tags": []
   },
   "outputs": [
    {
     "output_type": "stream",
     "name": "stdout",
     "text": "a_np:\n <class 'numpy.ndarray'>,\n Shape: (2, 3)\n[[1 2 3]\n [5 6 7]]\na_ts:\n <class 'torch.Tensor'>,\n Shape: torch.Size([2, 3])\ntensor([[1, 2, 3],\n        [4, 5, 6]])\n"
    }
   ],
   "source": [
    "# Construct a (2,3) NumPy array and a (2,3) tensor directly from data\n",
    "# [[1 2 3]\n",
    "#  [4 5 6]]\n",
    "a_np = np.array([[1,2,3],[5,6,7]]) #NumPy array\n",
    "a_ts = torch.tensor([[1,2,3],[4,5,6]]) # Tensor\n",
    "print(\"a_np:\\n {},\\n Shape: {}\".format(type(a_np), a_np.shape))\n",
    "print(a_np)\n",
    "print(\"a_ts:\\n {},\\n Shape: {}\".format(type(a_ts), a_ts.shape)  )\n",
    "print(a_ts)"
   ]
  },
  {
   "cell_type": "markdown",
   "metadata": {
    "pycharm": {
     "name": "#%% md\n"
    }
   },
   "source": [
    "### 1.2 Conversion btw. NumPy ndarray and Tensor\n",
    "\n",
    "The conversion between NumPy ndarray and PyTorh tensor is quite easy.\n"
   ]
  },
  {
   "cell_type": "code",
   "execution_count": 7,
   "metadata": {
    "pycharm": {
     "is_executing": true,
     "name": "#%%\n"
    }
   },
   "outputs": [],
   "source": [
    "# Conversion\n",
    "m_np = np.array([1, 2, 3])\n",
    "n_ts = torch.from_numpy(m_np) #Convert a numpy array to a Tensor\n",
    "\n",
    "v_np = n_ts.numpy() #Tensor to numpy\n",
    "v_np[1] = -1 #Numpy and Tensor share the same memory\n",
    "assert(m_np[1] == v_np[1]) #Change Numpy will also change the Tensor"
   ]
  },
  {
   "cell_type": "markdown",
   "metadata": {
    "pycharm": {
     "name": "#%% md\n"
    }
   },
   "source": [
    "<div class=\"alert alert-block alert-info\"><b>Hint:</b> During the conversion, both ndarray and Tensor share the same memory storage. Change value from either side will\n",
    "affect the other.</div>\n",
    "\n",
    "### 1.3 Operations\n",
    "\n",
    "#### 1.3.1 Indexing\n",
    "\n",
    "We can use the NumPy indexing in Tensors:"
   ]
  },
  {
   "cell_type": "code",
   "execution_count": 8,
   "metadata": {
    "pycharm": {
     "is_executing": true,
     "name": "#%%\n"
    },
    "tags": []
   },
   "outputs": [
    {
     "output_type": "stream",
     "name": "stdout",
     "text": "tensor([[0, 2],\n        [0, 5]])\n"
    }
   ],
   "source": [
    "# Let us take the first two columns from the original array and save it in a new one\n",
    "b = a_ts[:2, :2] #Use numpy type indexing\n",
    "#b.shape\n",
    "b[:, 0] = 0 #For assignment\n",
    "print(b)"
   ]
  },
  {
   "cell_type": "code",
   "execution_count": 9,
   "metadata": {
    "pycharm": {
     "is_executing": true,
     "name": "#%%\n"
    },
    "tags": []
   },
   "outputs": [
    {
     "output_type": "stream",
     "name": "stdout",
     "text": "tensor([2, 3, 5, 6])\n"
    }
   ],
   "source": [
    "# Select elements which satisfy a condition\n",
    "# Using numpy array makes such a selection trivial\n",
    "mask = a_ts > 1\n",
    "new_array = a_ts[mask]\n",
    "print(new_array)"
   ]
  },
  {
   "cell_type": "code",
   "execution_count": 10,
   "metadata": {
    "pycharm": {
     "is_executing": true,
     "name": "#%%\n"
    },
    "tags": []
   },
   "outputs": [
    {
     "output_type": "stream",
     "name": "stdout",
     "text": "tensor([True, True, True, True])\n"
    }
   ],
   "source": [
    "# Do the same thing in a single step\n",
    "c = a_ts[a_ts>1]\n",
    "print(c == new_array) #Why assert doesn't work here\n",
    "##assert np.all(new_array == c) #  np.all() to indicate that all the values need to match"
   ]
  },
  {
   "cell_type": "markdown",
   "metadata": {
    "pycharm": {
     "name": "#%% md\n"
    }
   },
   "source": [
    "#### 1.3.2 Mathematical operations"
   ]
  },
  {
   "cell_type": "code",
   "execution_count": 11,
   "metadata": {
    "pycharm": {
     "is_executing": true,
     "name": "#%%\n"
    },
    "tags": []
   },
   "outputs": [
    {
     "output_type": "stream",
     "name": "stdout",
     "text": "x + y: tensor([[ 6,  8],\n        [10, 12]])\nx + y: tensor([[ 6,  8],\n        [10, 12]])\nx + y: tensor([[ 6.,  8.],\n        [10., 12.]])\nx - y: tensor([[-4, -4],\n        [-4, -4]])\nx - y: tensor([[-4, -4],\n        [-4, -4]])\nx - y: tensor([[-4., -4.],\n        [-4., -4.]])\nx * y: tensor([[ 5, 12],\n        [21, 32]])\nx * y: tensor([[ 5, 12],\n        [21, 32]])\nx * y: tensor([[ 5., 12.],\n        [21., 32.]])\n"
    }
   ],
   "source": [
    "# Mathematical operations\n",
    "x = torch.tensor([[1,2],[3,4]])\n",
    "y = torch.tensor([[5,6],[7,8]])\n",
    "\n",
    "# Elementwise Addition\n",
    "# [[ 6.0  8.0]\n",
    "#  [10.0 12.0]]\n",
    "#Addition: syntax 1\n",
    "print(\"x + y: {}\".format(x + y))\n",
    "#Addition: syntax 2\n",
    "print(\"x + y: {}\".format(torch.add(x, y)))\n",
    "#Addition: syntax 3\n",
    "result_add = torch.empty(2, 2)\n",
    "torch.add(x, y, out=result_add)\n",
    "print(\"x + y: {}\".format(result_add))\n",
    "\n",
    "# Elementwise Subtraction\n",
    "# [[-4.0 -4.0]\n",
    "#  [-4.0 -4.0]]\n",
    "# Subtraction: syntax 1\n",
    "print(\"x - y: {}\".format(x - y))\n",
    "# Subtraction: syntax 2\n",
    "print(\"x - y: {}\".format(torch.sub(x, y)))\n",
    "# Subtraction: syntax 3\n",
    "result_sub = torch.empty(2, 2)\n",
    "torch.sub(x, y, out=result_sub)\n",
    "print(\"x - y: {}\".format(result_sub))\n",
    "\n",
    "# Elementwise Multiplication\n",
    "# [[ 5.0 12.0]\n",
    "#  [21.0 32.0]]\n",
    "# Multiplication: syntax 1\n",
    "print(\"x * y: {}\".format(x * y))\n",
    "# Multiplication: syntax 2\n",
    "print(\"x * y: {}\".format(torch.mul(x, y)))\n",
    "# Multiplication: syntax 3\n",
    "result_mul = torch.empty(2, 2)\n",
    "torch.mul(x, y, out=result_mul)\n",
    "print(\"x * y: {}\".format(result_mul))\n",
    "\n",
    "\n"
   ]
  },
  {
   "cell_type": "markdown",
   "metadata": {
    "pycharm": {
     "name": "#%% md\n"
    }
   },
   "source": [
    "When dividing two ints in NumPy, the result is always a **float**, e.g."
   ]
  },
  {
   "cell_type": "code",
   "execution_count": 12,
   "metadata": {
    "pycharm": {
     "is_executing": true,
     "name": "#%%\n"
    },
    "tags": []
   },
   "outputs": [
    {
     "output_type": "stream",
     "name": "stdout",
     "text": "[[0.2        0.33333333]\n [0.42857143 0.5       ]]\n"
    }
   ],
   "source": [
    "x_np = np.array([[1,2],[3,4]])\n",
    "y_np = np.array([[5,6],[7,8]])\n",
    "print(x_np / y_np)"
   ]
  },
  {
   "cell_type": "markdown",
   "metadata": {
    "pycharm": {
     "name": "#%% md\n"
    }
   },
   "source": [
    "\n",
    "\n",
    "**However, in PyTorch 1.4.0 `torch.div` calculates floor division if both operands have integer types**;\n",
    "  If you want **true division** for integers, pleases convert the integers into floats first or specify the output as\n",
    "  `torch.div(a, b, out=c)`.\n",
    "<div class=\"alert alert-block alert-danger\">In PyTorch 1.5.0 you can use <b>true_divide</b> or <b>floor_divide</b>\n",
    " to calculate true division or floor division. And in future release div will perform true division as in Python 3. </div>\n"
   ]
  },
  {
   "cell_type": "code",
   "execution_count": 17,
   "metadata": {
    "pycharm": {
     "is_executing": true,
     "name": "#%%\n"
    },
    "tags": []
   },
   "outputs": [
    {
     "output_type": "stream",
     "name": "stdout",
     "text": "x // y: tensor([[0.2000, 0.3333],\n        [0.4286, 0.5000]])\nx // y: tensor([[0, 0],\n        [0, 0]])\nx / y: tensor([[0., 0.],\n        [0., 0.]])\n"
    }
   ],
   "source": [
    "# Elementwise Division\n",
    "# Floor Division: syntax 1\n",
    "print(\"x // y: {}\".format(torch.true_divide(x,y)))\n",
    "# Floor Division: syntax 2\n",
    "print(\"x // y: {}\".format(torch.floor_divide(x,y)))\n",
    "# True Division: syntax 1\n",
    "result_true_div = torch.empty(2, 2)\n",
    "torch.div(x, y, out=result_true_div)\n",
    "print(\"x / y: {}\".format(result_true_div))"
   ]
  },
  {
   "cell_type": "markdown",
   "metadata": {},
   "source": [
    "### 1.4 Devices\n",
    "\n",
    "When training a neural network, make sure that all the tensors are on the same device. Tensors can be moved onto any device using `.to` method."
   ]
  },
  {
   "cell_type": "code",
   "execution_count": 18,
   "metadata": {
    "pycharm": {
     "name": "#%%\n"
    },
    "tags": []
   },
   "outputs": [
    {
     "output_type": "stream",
     "name": "stdout",
     "text": "cpu\nOriginal device: cpu\nCurrent device: cpu\n"
    }
   ],
   "source": [
    "# We will use ``torch.device`` objects to move tensors in and out of GPU\n",
    "device = torch.device(\"cuda:0\" if torch.cuda.is_available() else \"cpu\")\n",
    "print(device)\n",
    "\n",
    "print(f\"Original device: {x.device}\") # \"cpu\", integer\n",
    "\n",
    "tensor = x.to(device)\n",
    "print(f\"Current device: {tensor.device}\") #\"cpu\" or \"cuda\", double"
   ]
  },
  {
   "cell_type": "markdown",
   "metadata": {},
   "source": [
    "So `x` has been moved onto cuda for those who have a GPU; otherwise it's still on the CPU.\n",
    "\n",
    "<div class=\"alert alert-block alert-info\"><b>Tip:</b> Include the <b>.to(device)</b> calls for every project such that\n",
    "you can easily port it to a GPU version.</div>"
   ]
  },
  {
   "cell_type": "markdown",
   "metadata": {
    "pycharm": {
     "name": "#%% md\n"
    }
   },
   "source": [
    "## 2. Training a classifier with PyTorch\n",
    "\n",
    "In this session, you'll have an overview about how we could use PyTorch to load data, define neural networks, compute\n",
    "loss and make updates to the weights of the network.\n",
    "\n",
    "\n",
    "We will do the following steps in order:\n",
    "\n",
    "a) Dataloading in Pytorch compared to our previous datasets\n",
    "\n",
    "b) Define a two-layer network\n",
    "\n",
    "c) Define a loss function and optimizer\n",
    "\n",
    "d) Train the network\n",
    "\n",
    "e) Test the network\n",
    "\n",
    "### 2.1 Datasets and Loading\n",
    "\n",
    "The general procedure of dataloading is:\n",
    "\n",
    "a) Extract: Get the data from the source\n",
    "\n",
    "b) Transform: Put our data into suitable form (e.g. tensor form)\n",
    "\n",
    "c) Load: Put our data into an object to make it easily accessible\n",
    "\n",
    "#### 2.1.1 House price\n",
    "\n",
    "We'll use our dataloader and the dataloader of PyTorch to load the house price dataset separately.\n",
    "\n",
    "First, let's initialize our csv dataset from exercise 3:"
   ]
  },
  {
   "cell_type": "code",
   "execution_count": 19,
   "metadata": {
    "pycharm": {
     "name": "#%%\n"
    }
   },
   "outputs": [],
   "source": [
    "from exercise_code.data.csv_dataset import CSVDataset, get_exercise5_transform\n",
    "from exercise_code.data.dataloader import DataLoader as our_DataLoader\n",
    "\n",
    "# dataloading and preprocessing steps as in ex04 2_logistic_regression.ipynb\n",
    "target_column = 'SalePrice'\n",
    "i2dl_exercises_path = os.path.dirname(os.path.abspath(os.getcwd()))\n",
    "root_path = os.path.join(i2dl_exercises_path, \"datasets\", 'housing')\n",
    "housing_file_path = os.path.join(root_path, \"housing_train.csv\")\n",
    "download_url = 'https://cdn3.vision.in.tum.de/~dl4cv/housing_train.zip'\n",
    "\n",
    "# Set up the transform to get two prepared columns\n",
    "select_two_columns_transform = get_exercise5_transform()\n",
    "\n",
    "# Set up the dataset\n",
    "our_csv_dataset = CSVDataset(target_column=target_column, root=root_path, download_url=download_url, mode=\"train\",\n",
    "                             transform=select_two_columns_transform)"
   ]
  },
  {
   "cell_type": "markdown",
   "metadata": {},
   "source": [
    "Now we can set up our dataloader similar to Exercise 5"
   ]
  },
  {
   "cell_type": "code",
   "execution_count": 20,
   "metadata": {
    "tags": []
   },
   "outputs": [
    {
     "output_type": "stream",
     "name": "stdout",
     "text": "Starting item 0\nitem contains\nfeatures\n<class 'numpy.ndarray'>\n(4, 2)\ntarget\n<class 'numpy.ndarray'>\n(4, 1)\n"
    }
   ],
   "source": [
    "# Set up our old dataloader\n",
    "batch_size = 4\n",
    "our_dataloader = our_DataLoader(our_csv_dataset, batch_size=batch_size)\n",
    "\n",
    "for i, item in enumerate(our_dataloader):\n",
    "    print('Starting item {}'.format(i))\n",
    "    print('item contains')\n",
    "    for key in item:\n",
    "        print(key)\n",
    "        print(type(item[key]))\n",
    "        print(item[key].shape)\n",
    "    \n",
    "    if i+1 >= 1:\n",
    "        break"
   ]
  },
  {
   "cell_type": "markdown",
   "metadata": {
    "pycharm": {
     "name": "#%% md\n"
    }
   },
   "source": [
    "In pyTorch we can directly use a [`Dataloader` class](https://pytorch.org/docs/stable/data.html#torch.utils.data.DataLoader)\n",
    "and simply initalize it. And it also provides more parameters than ours, such as easy multiprocessing using `num_workers`. You can refer to the link\n",
    "to learn those additional supports."
   ]
  },
  {
   "cell_type": "code",
   "execution_count": 21,
   "metadata": {
    "tags": []
   },
   "outputs": [
    {
     "output_type": "stream",
     "name": "stdout",
     "text": "Starting item 0\nitem contains\nfeatures\n<class 'torch.Tensor'>\ntorch.Size([4, 2])\ntarget\n<class 'torch.Tensor'>\ntorch.Size([4, 1])\n"
    }
   ],
   "source": [
    "from torch.utils.data import DataLoader\n",
    "\n",
    "pytorch_dataloader = DataLoader(our_csv_dataset, batch_size=batch_size)\n",
    "\n",
    "# We can use the exact same way to iterate over samples\n",
    "for i, item in enumerate(pytorch_dataloader):\n",
    "    print('Starting item {}'.format(i))\n",
    "    print('item contains')\n",
    "    for key in item:\n",
    "        print(key)\n",
    "        print(type(item[key]))\n",
    "        print(item[key].shape)\n",
    "    \n",
    "    if i+1 >= 1:\n",
    "        break"
   ]
  },
  {
   "cell_type": "markdown",
   "metadata": {},
   "source": [
    "<div class=\"alert alert-block alert-info\">As you can see, both dataloaders load the data with batch_size 4 and the data contains 2 features and 1 target. The only <b>difference</b> here is that the Dataloader of PyTorch will automatically transform the dataset into tensor format.</div>\n",
    "\n",
    "#### 2.1.2 Torchvision\n",
    "\n",
    "Specifically for vision, there's a package called `torchvision`, that has data loaders for common datasets such\n",
    "as Imagenet, FashionMNIST, MNIST, etc. and data transformers for images:\n",
    "`torchvision.datasets` and `torch.utils.data.DataLoader`.\n",
    "\n",
    "This provides a huge convenience and avoids writing boilerplate code.\n",
    "\n",
    "For this tutorial, we will use FashionMNIST dataset. It has 10 classes: 'T-shirt/top', 'Trouser', 'Pullover',\n",
    "'Dress', 'Coat', 'Sandal', 'Shirt', 'Sneaker', 'Bag', 'Ankle boot'. The images in FashionMNIST\n",
    "are of size $1 \\times 28 \\times 28 $, i.e. 1-channel color images of $ 28 \\times 28 $ pixels in size."
   ]
  },
  {
   "cell_type": "code",
   "execution_count": 22,
   "metadata": {},
   "outputs": [],
   "source": [
    "#Define a transform to convert images to tensor\n",
    "transform = transforms.Compose([transforms.ToTensor(),\n",
    "                                transforms.Normalize((0.5,),(0.5,))])  # mean and std have to be sequences (e.g. tuples),\n",
    "                                                                      # therefore we should add a comma after the values\n",
    "\n",
    "fashion_mnist_dataset = torchvision.datasets.FashionMNIST(root='../datasets', train=True,\n",
    "                                                          download=True, transform=transform)\n",
    "fashion_mnist_test_dataset = torchvision.datasets.FashionMNIST(root='../datasets', train=False,\n",
    "                                                          download=True, transform=transform)\n",
    "\n",
    "fashion_mnist_dataloader = DataLoader(fashion_mnist_dataset, batch_size=8)\n",
    "fashion_mnist_test_dataloader = DataLoader(fashion_mnist_test_dataset, batch_size=8)\n",
    "\n",
    "classes = ('T-shirt/top', 'Trouser', 'Pullover', 'Dress', 'Coat',\n",
    "           'Sandal', 'Shirt', 'Sneaker', 'Bag', 'Ankle boot')"
   ]
  },
  {
   "cell_type": "markdown",
   "metadata": {
    "pycharm": {
     "name": "#%% md\n"
    }
   },
   "source": [
    "- `transforms.Compose` creates a series of transformation to prepare the dataset.\n",
    "\n",
    "- `transforms.ToTenser` convert `PIL image` or numpy.ndarray $(H \\times W\\times C)$ in the range [0,255] to a\n",
    "`torch.FloatTensor` of shape $(C \\times H \\times W)$ in the range [0.0, 1.0].\n",
    "\n",
    "- `transforms.Normalize` normalize a tensor image with mean and standard deviation.\n",
    "\n",
    "- `datasets.FashionMNIST` to download the Fashion MNIST datasets and transform the data.\n",
    "`train=True` if we want to get the training set; otherwise set `train=False` to get the\n",
    "test set.\n",
    "\n",
    "- `torch.utils.data.Dataloader` takes our training data or test data with parameter\n",
    "`batch_size` and `shuffle`. `batch_size` defines how many samples per batch to load.\n",
    "`shuffle=True` makes the data reshuffled at every epoch."
   ]
  },
  {
   "cell_type": "code",
   "execution_count": 23,
   "metadata": {
    "pycharm": {
     "name": "#%%\n"
    },
    "tags": []
   },
   "outputs": [
    {
     "output_type": "stream",
     "name": "stdout",
     "text": "Starting item 0\nitem contains\nType of input: <class 'torch.Tensor'>\nShape of the input: torch.Size([8, 1, 28, 28])\nlabel: tensor([9, 0, 0, 3, 0, 2, 7, 2])\n"
    }
   ],
   "source": [
    "# We can use the exact same way to iterate over samples\n",
    "for i, item in enumerate(fashion_mnist_dataloader):\n",
    "    print('Starting item {}'.format(i))\n",
    "    print('item contains')\n",
    "    image, label = item\n",
    "    print(f\"Type of input: {type(image)}\")\n",
    "    print(f\"Shape of the input: {image.shape}\")\n",
    "    print(f\"label: {label}\")\n",
    "\n",
    "    if i+1 >= 1:\n",
    "        break"
   ]
  },
  {
   "cell_type": "markdown",
   "metadata": {
    "pycharm": {
     "name": "#%% md\n"
    }
   },
   "source": [
    "Since we loaded the data with `batch_size` 8, the shape of the input is (8, 1, 28, 28). So before we push it into the affine layer, we need to flatten it with `x = x.view(-1, x.size[0)` (It will be shown later in 2.2)\n",
    "\n",
    "\n",
    "Let's show some of the training images."
   ]
  },
  {
   "cell_type": "code",
   "execution_count": 24,
   "metadata": {
    "pycharm": {
     "name": "#%%\n"
    },
    "tags": []
   },
   "outputs": [
    {
     "output_type": "display_data",
     "data": {
      "text/plain": "<Figure size 432x288 with 1 Axes>",
      "image/svg+xml": "<?xml version=\"1.0\" encoding=\"utf-8\" standalone=\"no\"?>\n<!DOCTYPE svg PUBLIC \"-//W3C//DTD SVG 1.1//EN\"\n  \"http://www.w3.org/Graphics/SVG/1.1/DTD/svg11.dtd\">\n<!-- Created with matplotlib (https://matplotlib.org/) -->\n<svg height=\"78.456683pt\" version=\"1.1\" viewBox=\"0 0 368.925 78.456683\" width=\"368.925pt\" xmlns=\"http://www.w3.org/2000/svg\" xmlns:xlink=\"http://www.w3.org/1999/xlink\">\n <metadata>\n  <rdf:RDF xmlns:cc=\"http://creativecommons.org/ns#\" xmlns:dc=\"http://purl.org/dc/elements/1.1/\" xmlns:rdf=\"http://www.w3.org/1999/02/22-rdf-syntax-ns#\">\n   <cc:Work>\n    <dc:type rdf:resource=\"http://purl.org/dc/dcmitype/StillImage\"/>\n    <dc:date>2020-09-14T22:08:44.056218</dc:date>\n    <dc:format>image/svg+xml</dc:format>\n    <dc:creator>\n     <cc:Agent>\n      <dc:title>Matplotlib v3.3.1, https://matplotlib.org/</dc:title>\n     </cc:Agent>\n    </dc:creator>\n   </cc:Work>\n  </rdf:RDF>\n </metadata>\n <defs>\n  <style type=\"text/css\">*{stroke-linecap:butt;stroke-linejoin:round;}</style>\n </defs>\n <g id=\"figure_1\">\n  <g id=\"patch_1\">\n   <path d=\"M -0 78.456683 \nL 368.925 78.456683 \nL 368.925 0 \nL -0 0 \nz\n\" style=\"fill:none;\"/>\n  </g>\n  <g id=\"axes_1\">\n   <g id=\"patch_2\">\n    <path d=\"M 26.925 54.578558 \nL 361.725 54.578558 \nL 361.725 10.307483 \nL 26.925 10.307483 \nz\n\" style=\"fill:#ffffff;\"/>\n   </g>\n   <g clip-path=\"url(#pb763cdb8d6)\">\n    <image height=\"45\" id=\"imagefd4e429b3f\" transform=\"scale(1 -1)translate(0 -45)\" width=\"335\" x=\"26.925\" xlink:href=\"data:image/png;base64,\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\" y=\"-9.578558\"/>\n   </g>\n   <g id=\"matplotlib.axis_1\">\n    <g id=\"xtick_1\">\n     <g id=\"line2d_1\">\n      <defs>\n       <path d=\"M 0 0 \nL 0 3.5 \n\" id=\"m7fd7637929\" style=\"stroke:#000000;stroke-width:0.8;\"/>\n      </defs>\n      <g>\n       <use style=\"stroke:#000000;stroke-width:0.8;\" x=\"27.616736\" xlink:href=\"#m7fd7637929\" y=\"54.578558\"/>\n      </g>\n     </g>\n     <g id=\"text_1\">\n      <!-- 0 -->\n      <g transform=\"translate(24.435486 69.176995)scale(0.1 -0.1)\">\n       <defs>\n        <path d=\"M 31.78125 66.40625 \nQ 24.171875 66.40625 20.328125 58.90625 \nQ 16.5 51.421875 16.5 36.375 \nQ 16.5 21.390625 20.328125 13.890625 \nQ 24.171875 6.390625 31.78125 6.390625 \nQ 39.453125 6.390625 43.28125 13.890625 \nQ 47.125 21.390625 47.125 36.375 \nQ 47.125 51.421875 43.28125 58.90625 \nQ 39.453125 66.40625 31.78125 66.40625 \nz\nM 31.78125 74.21875 \nQ 44.046875 74.21875 50.515625 64.515625 \nQ 56.984375 54.828125 56.984375 36.375 \nQ 56.984375 17.96875 50.515625 8.265625 \nQ 44.046875 -1.421875 31.78125 -1.421875 \nQ 19.53125 -1.421875 13.0625 8.265625 \nQ 6.59375 17.96875 6.59375 36.375 \nQ 6.59375 54.828125 13.0625 64.515625 \nQ 19.53125 74.21875 31.78125 74.21875 \nz\n\" id=\"DejaVuSans-48\"/>\n       </defs>\n       <use xlink:href=\"#DejaVuSans-48\"/>\n      </g>\n     </g>\n    </g>\n    <g id=\"xtick_2\">\n     <g id=\"line2d_2\">\n      <g>\n       <use style=\"stroke:#000000;stroke-width:0.8;\" x=\"96.790289\" xlink:href=\"#m7fd7637929\" y=\"54.578558\"/>\n      </g>\n     </g>\n     <g id=\"text_2\">\n      <!-- 50 -->\n      <g transform=\"translate(90.427789 69.176995)scale(0.1 -0.1)\">\n       <defs>\n        <path d=\"M 10.796875 72.90625 \nL 49.515625 72.90625 \nL 49.515625 64.59375 \nL 19.828125 64.59375 \nL 19.828125 46.734375 \nQ 21.96875 47.46875 24.109375 47.828125 \nQ 26.265625 48.1875 28.421875 48.1875 \nQ 40.625 48.1875 47.75 41.5 \nQ 54.890625 34.8125 54.890625 23.390625 \nQ 54.890625 11.625 47.5625 5.09375 \nQ 40.234375 -1.421875 26.90625 -1.421875 \nQ 22.3125 -1.421875 17.546875 -0.640625 \nQ 12.796875 0.140625 7.71875 1.703125 \nL 7.71875 11.625 \nQ 12.109375 9.234375 16.796875 8.0625 \nQ 21.484375 6.890625 26.703125 6.890625 \nQ 35.15625 6.890625 40.078125 11.328125 \nQ 45.015625 15.765625 45.015625 23.390625 \nQ 45.015625 31 40.078125 35.4375 \nQ 35.15625 39.890625 26.703125 39.890625 \nQ 22.75 39.890625 18.8125 39.015625 \nQ 14.890625 38.140625 10.796875 36.28125 \nz\n\" id=\"DejaVuSans-53\"/>\n       </defs>\n       <use xlink:href=\"#DejaVuSans-53\"/>\n       <use x=\"63.623047\" xlink:href=\"#DejaVuSans-48\"/>\n      </g>\n     </g>\n    </g>\n    <g id=\"xtick_3\">\n     <g id=\"line2d_3\">\n      <g>\n       <use style=\"stroke:#000000;stroke-width:0.8;\" x=\"165.963843\" xlink:href=\"#m7fd7637929\" y=\"54.578558\"/>\n      </g>\n     </g>\n     <g id=\"text_3\">\n      <!-- 100 -->\n      <g transform=\"translate(156.420093 69.176995)scale(0.1 -0.1)\">\n       <defs>\n        <path d=\"M 12.40625 8.296875 \nL 28.515625 8.296875 \nL 28.515625 63.921875 \nL 10.984375 60.40625 \nL 10.984375 69.390625 \nL 28.421875 72.90625 \nL 38.28125 72.90625 \nL 38.28125 8.296875 \nL 54.390625 8.296875 \nL 54.390625 0 \nL 12.40625 0 \nz\n\" id=\"DejaVuSans-49\"/>\n       </defs>\n       <use xlink:href=\"#DejaVuSans-49\"/>\n       <use x=\"63.623047\" xlink:href=\"#DejaVuSans-48\"/>\n       <use x=\"127.246094\" xlink:href=\"#DejaVuSans-48\"/>\n      </g>\n     </g>\n    </g>\n    <g id=\"xtick_4\">\n     <g id=\"line2d_4\">\n      <g>\n       <use style=\"stroke:#000000;stroke-width:0.8;\" x=\"235.137397\" xlink:href=\"#m7fd7637929\" y=\"54.578558\"/>\n      </g>\n     </g>\n     <g id=\"text_4\">\n      <!-- 150 -->\n      <g transform=\"translate(225.593647 69.176995)scale(0.1 -0.1)\">\n       <use xlink:href=\"#DejaVuSans-49\"/>\n       <use x=\"63.623047\" xlink:href=\"#DejaVuSans-53\"/>\n       <use x=\"127.246094\" xlink:href=\"#DejaVuSans-48\"/>\n      </g>\n     </g>\n    </g>\n    <g id=\"xtick_5\">\n     <g id=\"line2d_5\">\n      <g>\n       <use style=\"stroke:#000000;stroke-width:0.8;\" x=\"304.31095\" xlink:href=\"#m7fd7637929\" y=\"54.578558\"/>\n      </g>\n     </g>\n     <g id=\"text_5\">\n      <!-- 200 -->\n      <g transform=\"translate(294.7672 69.176995)scale(0.1 -0.1)\">\n       <defs>\n        <path d=\"M 19.1875 8.296875 \nL 53.609375 8.296875 \nL 53.609375 0 \nL 7.328125 0 \nL 7.328125 8.296875 \nQ 12.9375 14.109375 22.625 23.890625 \nQ 32.328125 33.6875 34.8125 36.53125 \nQ 39.546875 41.84375 41.421875 45.53125 \nQ 43.3125 49.21875 43.3125 52.78125 \nQ 43.3125 58.59375 39.234375 62.25 \nQ 35.15625 65.921875 28.609375 65.921875 \nQ 23.96875 65.921875 18.8125 64.3125 \nQ 13.671875 62.703125 7.8125 59.421875 \nL 7.8125 69.390625 \nQ 13.765625 71.78125 18.9375 73 \nQ 24.125 74.21875 28.421875 74.21875 \nQ 39.75 74.21875 46.484375 68.546875 \nQ 53.21875 62.890625 53.21875 53.421875 \nQ 53.21875 48.921875 51.53125 44.890625 \nQ 49.859375 40.875 45.40625 35.40625 \nQ 44.1875 33.984375 37.640625 27.21875 \nQ 31.109375 20.453125 19.1875 8.296875 \nz\n\" id=\"DejaVuSans-50\"/>\n       </defs>\n       <use xlink:href=\"#DejaVuSans-50\"/>\n       <use x=\"63.623047\" xlink:href=\"#DejaVuSans-48\"/>\n       <use x=\"127.246094\" xlink:href=\"#DejaVuSans-48\"/>\n      </g>\n     </g>\n    </g>\n   </g>\n   <g id=\"matplotlib.axis_2\">\n    <g id=\"ytick_1\">\n     <g id=\"line2d_6\">\n      <defs>\n       <path d=\"M 0 0 \nL -3.5 0 \n\" id=\"m387911ad74\" style=\"stroke:#000000;stroke-width:0.8;\"/>\n      </defs>\n      <g>\n       <use style=\"stroke:#000000;stroke-width:0.8;\" x=\"26.925\" xlink:href=\"#m387911ad74\" y=\"10.999219\"/>\n      </g>\n     </g>\n     <g id=\"text_6\">\n      <!-- 0 -->\n      <g transform=\"translate(13.5625 14.798437)scale(0.1 -0.1)\">\n       <use xlink:href=\"#DejaVuSans-48\"/>\n      </g>\n     </g>\n    </g>\n    <g id=\"ytick_2\">\n     <g id=\"line2d_7\">\n      <g>\n       <use style=\"stroke:#000000;stroke-width:0.8;\" x=\"26.925\" xlink:href=\"#m387911ad74\" y=\"38.66864\"/>\n      </g>\n     </g>\n     <g id=\"text_7\">\n      <!-- 20 -->\n      <g transform=\"translate(7.2 42.467859)scale(0.1 -0.1)\">\n       <use xlink:href=\"#DejaVuSans-50\"/>\n       <use x=\"63.623047\" xlink:href=\"#DejaVuSans-48\"/>\n      </g>\n     </g>\n    </g>\n   </g>\n   <g id=\"patch_3\">\n    <path d=\"M 26.925 54.578558 \nL 26.925 10.307483 \n\" style=\"fill:none;stroke:#000000;stroke-linecap:square;stroke-linejoin:miter;stroke-width:0.8;\"/>\n   </g>\n   <g id=\"patch_4\">\n    <path d=\"M 361.725 54.578558 \nL 361.725 10.307483 \n\" style=\"fill:none;stroke:#000000;stroke-linecap:square;stroke-linejoin:miter;stroke-width:0.8;\"/>\n   </g>\n   <g id=\"patch_5\">\n    <path d=\"M 26.925 54.578558 \nL 361.725 54.578558 \n\" style=\"fill:none;stroke:#000000;stroke-linecap:square;stroke-linejoin:miter;stroke-width:0.8;\"/>\n   </g>\n   <g id=\"patch_6\">\n    <path d=\"M 26.925 10.307483 \nL 361.725 10.307483 \n\" style=\"fill:none;stroke:#000000;stroke-linecap:square;stroke-linejoin:miter;stroke-width:0.8;\"/>\n   </g>\n  </g>\n </g>\n <defs>\n  <clipPath id=\"pb763cdb8d6\">\n   <rect height=\"44.271074\" width=\"334.8\" x=\"26.925\" y=\"10.307483\"/>\n  </clipPath>\n </defs>\n</svg>\n",
      "image/png": "[encoded data removed]"
     },
     "metadata": {
      "needs_background": "light"
     }
    },
    {
     "output_type": "stream",
     "name": "stdout",
     "text": "Ankle boot T-shirt/top T-shirt/top Dress T-shirt/top Pullover Sneaker Pullover\n"
    }
   ],
   "source": [
    "def imshow(img):\n",
    "    img = img / 2 + 0.5 # unormalize\n",
    "    npimg = img.numpy()\n",
    "    plt.imshow(np.transpose(npimg, (1, 2, 0)))\n",
    "    plt.show()\n",
    "\n",
    "# get some random training images\n",
    "dataiter = iter(fashion_mnist_dataloader)\n",
    "images, labels = dataiter.next()\n",
    "# show images\n",
    "imshow(torchvision.utils.make_grid(images))\n",
    "# print labels\n",
    "print(' '.join('%5s' % classes[labels[j]] for j in range(8)))"
   ]
  },
  {
   "cell_type": "markdown",
   "metadata": {
    "pycharm": {
     "name": "#%% md\n"
    }
   },
   "source": [
    "### 2.2 Define a Two-Layer Network"
   ]
  },
  {
   "cell_type": "markdown",
   "metadata": {
    "pycharm": {
     "is_executing": true,
     "name": "#%% md\n"
    }
   },
   "source": [
    "In exercise_06 we've defined the forward and backward pass for an affine layer and a Sigmoid layer\n",
    "(`exercise_code/networks/layer.py`) and completed the implementation of the `ClassificationionNet` class\n",
    "(`exercise_code/networks/classifiation_net.py`)."
   ]
  },
  {
   "cell_type": "code",
   "execution_count": 25,
   "metadata": {
    "pycharm": {
     "name": "#%%\n"
    }
   },
   "outputs": [],
   "source": [
    "from exercise_code.networks.classification_net import ClassificationNet\n",
    "hidden_size = 100\n",
    "std = 1.0\n",
    "model_ex06 = ClassificationNet(input_size=2, hidden_size=hidden_size, std=std)"
   ]
  },
  {
   "cell_type": "markdown",
   "metadata": {
    "pycharm": {
     "name": "#%% md\n"
    }
   },
   "source": [
    "Have a look at your lengthy implementation first ;). Now, we can use `torch.nn.Module` to define our network class, e.g."
   ]
  },
  {
   "cell_type": "code",
   "execution_count": 26,
   "metadata": {
    "pycharm": {
     "name": "#%%\n"
    }
   },
   "outputs": [],
   "source": [
    "import torch.nn as nn\n",
    "\n",
    "\n",
    "class Net(nn.Module):\n",
    "    def __init__(self, activation=nn.Sigmoid(),\n",
    "                 input_size=1*28*28, hidden_size=100, classes=10):\n",
    "        super(Net, self).__init__()\n",
    "        self.input_size = input_size\n",
    "\n",
    "        # Here we initialize our activation and set up our two linear layers\n",
    "        self.activation = activation\n",
    "        self.fc1 = nn.Linear(input_size, hidden_size)\n",
    "        self.fc2 = nn.Linear(hidden_size, classes)\n",
    "\n",
    "    def forward(self, x):\n",
    "        x = x.view(-1, self.input_size) # flatten\n",
    "        x = self.fc1(x)\n",
    "        x = self.activation(x)\n",
    "        x = self.fc2(x)\n",
    "\n",
    "        return x"
   ]
  },
  {
   "cell_type": "markdown",
   "metadata": {
    "pycharm": {
     "name": "#%% md\n"
    }
   },
   "source": [
    "Similar to the `ClassificationNet` in exercise_06, here we defined a network with PyTorch.\n",
    "\n",
    " - PyTorch provides a `nn.Module` that builds neural networks\n",
    "\n",
    " - `super().__init__` creates a class that inherits attributes and behaviors from another\n",
    " class\n",
    "\n",
    " - `self.fc1` creates an affine layer with `input_size` inputs and `hidden_size` outputs.\n",
    "\n",
    " - `self.fc2` is similar to `self.fc1`.\n",
    "\n",
    " - `Forward` pass:\n",
    "\n",
    "    - first flatten the `x` with `x = x.view(-1, self.input_size)`\n",
    "\n",
    "    - 'Sandwich layer' by applying `fc1`, `activation`, `fc2` sequentially.\n",
    "    \n",
    "<div class=\"alert alert-block alert-info\">Thanks to <b>autograd</b> package, we just have to define the <b>forward</b> function. \n",
    " And the <b>backward</b> function (where gradients are computed) is automatically defined. We can use any of the Tensor operations in the <b>forward</b>  function.</div>\n",
    "\n",
    "<div class=\"alert alert-block alert-info\"> We can use <b>print</b> to see all difined layers (but it won't show\n",
    "the information of the forward pass).\n",
    "\n",
    "And all the learnable parameters of a model are returned by <b>[model_name].parameters()</b>. We also have access to\n",
    "the parameters of different layers by <b>[model_name].[layer_name].parameters()</b> </div>"
   ]
  },
  {
   "cell_type": "code",
   "execution_count": 27,
   "metadata": {
    "pycharm": {
     "name": "#%%\n"
    },
    "tags": []
   },
   "outputs": [
    {
     "output_type": "stream",
     "name": "stdout",
     "text": "Net(\n  (activation): Sigmoid()\n  (fc1): Linear(in_features=784, out_features=100, bias=True)\n  (fc2): Linear(in_features=100, out_features=10, bias=True)\n)\ntorch.Size([100, 784])\ntorch.Size([100])\ntorch.Size([10, 100])\ntorch.Size([10])\n"
    }
   ],
   "source": [
    "#  create model\n",
    "net = Net()\n",
    "net = net.to(device) #always remember to move the network to the device\n",
    "\n",
    "print(net)\n",
    "\n",
    "for parameter in net.parameters():\n",
    "    print(parameter.shape)"
   ]
  },
  {
   "cell_type": "markdown",
   "metadata": {
    "pycharm": {
     "name": "#%% md\n"
    }
   },
   "source": [
    "### 2.3 Define a Loss function and optimizer\n",
    "\n",
    "Let's use a Classification Cross-Entropy loss and SGD with momentum.\n",
    "\n",
    "Recall that we've implemented SGD and MSE in exercise_04. Have a look at their implementations in\n",
    " `exercise_code/networks/optimizer.py` and `exercise_code/networks/loss.py`"
   ]
  },
  {
   "cell_type": "code",
   "execution_count": 28,
   "metadata": {
    "pycharm": {
     "name": "#%%\n"
    }
   },
   "outputs": [],
   "source": [
    "from exercise_code.networks.optimizer import SGD\n",
    "from exercise_code.networks.loss import MSE, L1"
   ]
  },
  {
   "cell_type": "markdown",
   "metadata": {
    "pycharm": {
     "name": "#%% md\n"
    }
   },
   "source": [
    "Now we can import the loss function and optimizer directly from `torch.nn` and `torch.optim` respectively, e.g."
   ]
  },
  {
   "cell_type": "code",
   "execution_count": 29,
   "metadata": {
    "pycharm": {
     "is_executing": true,
     "name": "#%%\n"
    }
   },
   "outputs": [],
   "source": [
    "import torch.optim as optim\n",
    "\n",
    "criterion = nn.CrossEntropyLoss()\n",
    "optimizer = optim.SGD(net.parameters(), lr=0.001, momentum=0.9)"
   ]
  },
  {
   "cell_type": "markdown",
   "metadata": {
    "pycharm": {
     "name": "#%% md\n"
    }
   },
   "source": [
    "### 2.4 Train the network\n",
    "\n",
    "This is when things start to get interesting. We simply have to loop over our data iterator, and feed the inputs to\n",
    "the network and optimize."
   ]
  },
  {
   "cell_type": "code",
   "execution_count": 30,
   "metadata": {
    "pycharm": {
     "name": "#%%\n"
    },
    "tags": []
   },
   "outputs": [
    {
     "output_type": "stream",
     "name": "stdout",
     "text": "[Epoch 1, Iteration  1000] loss: 1.537 acc: 56.71 %\n[Epoch 1, Iteration  2000] loss: 0.907 acc: 71.59 %\n[Epoch 1, Iteration  3000] loss: 0.744 acc: 74.33 %\n[Epoch 1, Iteration  4000] loss: 0.658 acc: 77.03 %\n[Epoch 1, Iteration  5000] loss: 0.612 acc: 78.88 %\n[Epoch 1, Iteration  6000] loss: 0.578 acc: 79.76 %\n[Epoch 1, Iteration  7000] loss: 0.556 acc: 80.27 %\n[Epoch 2, Iteration  1000] loss: 0.522 acc: 81.71 %\n[Epoch 2, Iteration  2000] loss: 0.508 acc: 82.01 %\n[Epoch 2, Iteration  3000] loss: 0.511 acc: 81.94 %\n[Epoch 2, Iteration  4000] loss: 0.486 acc: 83.03 %\n[Epoch 2, Iteration  5000] loss: 0.483 acc: 83.36 %\n[Epoch 2, Iteration  6000] loss: 0.473 acc: 83.49 %\n[Epoch 2, Iteration  7000] loss: 0.472 acc: 83.23 %\nFINISH.\n"
    }
   ],
   "source": [
    "train_loss_history = [] # loss\n",
    "train_acc_history = [] # accuracy\n",
    "for epoch in range(2):\n",
    "\n",
    "    # TRAINING\n",
    "    running_loss = 0.0\n",
    "    correct = 0.0\n",
    "    total = 0\n",
    "    for i, data in enumerate(fashion_mnist_dataloader, 0):\n",
    "        # get the inputs; data is a list of [inputs, labels]\n",
    "        X, y = data\n",
    "\n",
    "        X = X.to(device)\n",
    "        y = y.to(device)\n",
    "\n",
    "        # zero the parameter gradients\n",
    "        optimizer.zero_grad()\n",
    "\n",
    "        # forward + backward + optimize\n",
    "        y_pred = net(X) # input x and predict based on x\n",
    "        loss = criterion(y_pred, y) # calculate the loss\n",
    "        loss.backward()  # backpropagation, compute gradients\n",
    "        optimizer.step()  # apply gradients\n",
    "\n",
    "        # loss and acc\n",
    "        running_loss += loss.item()\n",
    "        _, preds = torch.max(y_pred, 1) #convert output probabilities to predicted class\n",
    "        correct += preds.eq(y).sum().item()\n",
    "        total += y.size(0)\n",
    "\n",
    "        # print statistics\n",
    "        if i % 1000 == 999: # print every 1000 mini-batches\n",
    "            running_loss /= 1000\n",
    "            correct /= total\n",
    "            print(\"[Epoch %d, Iteration %5d] loss: %.3f acc: %.2f %%\" % (epoch+1, i+1, running_loss, 100*correct))\n",
    "            train_loss_history.append(running_loss)\n",
    "            train_acc_history.append(correct)\n",
    "            running_loss = 0.0\n",
    "            correct = 0.0\n",
    "            total = 0\n",
    "\n",
    "print('FINISH.')"
   ]
  },
  {
   "cell_type": "markdown",
   "metadata": {
    "pycharm": {
     "name": "#%% md\n"
    }
   },
   "source": [
    "So the general training pass is as fowllows:\n",
    "\n",
    "- `zero_grad()`: zero the gradient buffers of all parameters and backprops with random gradient\n",
    "\n",
    "- `y_pred = net(X)`: make a forward pass through the network to getting log probabilities by passing the\n",
    "images to the model.\n",
    "\n",
    "- `loss = criterion(y_pred, y)`: calculate the loss\n",
    "\n",
    "- `loss.backward()`: perform a backward pass through the network to calculate the gradients for model parameters.\n",
    "\n",
    "-  `optimizer.step()`: take a step with the optimizer to update the model parameters.\n",
    "\n",
    "We keep tracking the training loss and accuracy over time. The following plot shows averages values for train loss and\n",
    "accuracy."
   ]
  },
  {
   "cell_type": "code",
   "execution_count": 31,
   "metadata": {
    "pycharm": {
     "name": "#%%\n"
    }
   },
   "outputs": [
    {
     "output_type": "display_data",
     "data": {
      "text/plain": "<Figure size 432x288 with 1 Axes>",
      "image/svg+xml": "<?xml version=\"1.0\" encoding=\"utf-8\" standalone=\"no\"?>\n<!DOCTYPE svg PUBLIC \"-//W3C//DTD SVG 1.1//EN\"\n  \"http://www.w3.org/Graphics/SVG/1.1/DTD/svg11.dtd\">\n<!-- Created with matplotlib (https://matplotlib.org/) -->\n<svg height=\"277.314375pt\" version=\"1.1\" viewBox=\"0 0 385.78125 277.314375\" width=\"385.78125pt\" xmlns=\"http://www.w3.org/2000/svg\" xmlns:xlink=\"http://www.w3.org/1999/xlink\">\n <metadata>\n  <rdf:RDF xmlns:cc=\"http://creativecommons.org/ns#\" xmlns:dc=\"http://purl.org/dc/elements/1.1/\" xmlns:rdf=\"http://www.w3.org/1999/02/22-rdf-syntax-ns#\">\n   <cc:Work>\n    <dc:type rdf:resource=\"http://purl.org/dc/dcmitype/StillImage\"/>\n    <dc:date>2020-09-14T22:09:59.775569</dc:date>\n    <dc:format>image/svg+xml</dc:format>\n    <dc:creator>\n     <cc:Agent>\n      <dc:title>Matplotlib v3.3.1, https://matplotlib.org/</dc:title>\n     </cc:Agent>\n    </dc:creator>\n   </cc:Work>\n  </rdf:RDF>\n </metadata>\n <defs>\n  <style type=\"text/css\">*{stroke-linecap:butt;stroke-linejoin:round;}</style>\n </defs>\n <g id=\"figure_1\">\n  <g id=\"patch_1\">\n   <path d=\"M 0 277.314375 \nL 385.78125 277.314375 \nL 385.78125 0 \nL 0 0 \nz\n\" style=\"fill:none;\"/>\n  </g>\n  <g id=\"axes_1\">\n   <g id=\"patch_2\">\n    <path d=\"M 43.78125 239.758125 \nL 378.58125 239.758125 \nL 378.58125 22.318125 \nL 43.78125 22.318125 \nz\n\" style=\"fill:#ffffff;\"/>\n   </g>\n   <g id=\"matplotlib.axis_1\">\n    <g id=\"xtick_1\">\n     <g id=\"line2d_1\">\n      <defs>\n       <path d=\"M 0 0 \nL 0 3.5 \n\" id=\"m74a937f42a\" style=\"stroke:#000000;stroke-width:0.8;\"/>\n      </defs>\n      <g>\n       <use style=\"stroke:#000000;stroke-width:0.8;\" x=\"58.999432\" xlink:href=\"#m74a937f42a\" y=\"239.758125\"/>\n      </g>\n     </g>\n     <g id=\"text_1\">\n      <!-- 0 -->\n      <g transform=\"translate(55.818182 254.356562)scale(0.1 -0.1)\">\n       <defs>\n        <path d=\"M 31.78125 66.40625 \nQ 24.171875 66.40625 20.328125 58.90625 \nQ 16.5 51.421875 16.5 36.375 \nQ 16.5 21.390625 20.328125 13.890625 \nQ 24.171875 6.390625 31.78125 6.390625 \nQ 39.453125 6.390625 43.28125 13.890625 \nQ 47.125 21.390625 47.125 36.375 \nQ 47.125 51.421875 43.28125 58.90625 \nQ 39.453125 66.40625 31.78125 66.40625 \nz\nM 31.78125 74.21875 \nQ 44.046875 74.21875 50.515625 64.515625 \nQ 56.984375 54.828125 56.984375 36.375 \nQ 56.984375 17.96875 50.515625 8.265625 \nQ 44.046875 -1.421875 31.78125 -1.421875 \nQ 19.53125 -1.421875 13.0625 8.265625 \nQ 6.59375 17.96875 6.59375 36.375 \nQ 6.59375 54.828125 13.0625 64.515625 \nQ 19.53125 74.21875 31.78125 74.21875 \nz\n\" id=\"DejaVuSans-48\"/>\n       </defs>\n       <use xlink:href=\"#DejaVuSans-48\"/>\n      </g>\n     </g>\n    </g>\n    <g id=\"xtick_2\">\n     <g id=\"line2d_2\">\n      <g>\n       <use style=\"stroke:#000000;stroke-width:0.8;\" x=\"105.824607\" xlink:href=\"#m74a937f42a\" y=\"239.758125\"/>\n      </g>\n     </g>\n     <g id=\"text_2\">\n      <!-- 2 -->\n      <g transform=\"translate(102.643357 254.356562)scale(0.1 -0.1)\">\n       <defs>\n        <path d=\"M 19.1875 8.296875 \nL 53.609375 8.296875 \nL 53.609375 0 \nL 7.328125 0 \nL 7.328125 8.296875 \nQ 12.9375 14.109375 22.625 23.890625 \nQ 32.328125 33.6875 34.8125 36.53125 \nQ 39.546875 41.84375 41.421875 45.53125 \nQ 43.3125 49.21875 43.3125 52.78125 \nQ 43.3125 58.59375 39.234375 62.25 \nQ 35.15625 65.921875 28.609375 65.921875 \nQ 23.96875 65.921875 18.8125 64.3125 \nQ 13.671875 62.703125 7.8125 59.421875 \nL 7.8125 69.390625 \nQ 13.765625 71.78125 18.9375 73 \nQ 24.125 74.21875 28.421875 74.21875 \nQ 39.75 74.21875 46.484375 68.546875 \nQ 53.21875 62.890625 53.21875 53.421875 \nQ 53.21875 48.921875 51.53125 44.890625 \nQ 49.859375 40.875 45.40625 35.40625 \nQ 44.1875 33.984375 37.640625 27.21875 \nQ 31.109375 20.453125 19.1875 8.296875 \nz\n\" id=\"DejaVuSans-50\"/>\n       </defs>\n       <use xlink:href=\"#DejaVuSans-50\"/>\n      </g>\n     </g>\n    </g>\n    <g id=\"xtick_3\">\n     <g id=\"line2d_3\">\n      <g>\n       <use style=\"stroke:#000000;stroke-width:0.8;\" x=\"152.649781\" xlink:href=\"#m74a937f42a\" y=\"239.758125\"/>\n      </g>\n     </g>\n     <g id=\"text_3\">\n      <!-- 4 -->\n      <g transform=\"translate(149.468531 254.356562)scale(0.1 -0.1)\">\n       <defs>\n        <path d=\"M 37.796875 64.3125 \nL 12.890625 25.390625 \nL 37.796875 25.390625 \nz\nM 35.203125 72.90625 \nL 47.609375 72.90625 \nL 47.609375 25.390625 \nL 58.015625 25.390625 \nL 58.015625 17.1875 \nL 47.609375 17.1875 \nL 47.609375 0 \nL 37.796875 0 \nL 37.796875 17.1875 \nL 4.890625 17.1875 \nL 4.890625 26.703125 \nz\n\" id=\"DejaVuSans-52\"/>\n       </defs>\n       <use xlink:href=\"#DejaVuSans-52\"/>\n      </g>\n     </g>\n    </g>\n    <g id=\"xtick_4\">\n     <g id=\"line2d_4\">\n      <g>\n       <use style=\"stroke:#000000;stroke-width:0.8;\" x=\"199.474956\" xlink:href=\"#m74a937f42a\" y=\"239.758125\"/>\n      </g>\n     </g>\n     <g id=\"text_4\">\n      <!-- 6 -->\n      <g transform=\"translate(196.293706 254.356562)scale(0.1 -0.1)\">\n       <defs>\n        <path d=\"M 33.015625 40.375 \nQ 26.375 40.375 22.484375 35.828125 \nQ 18.609375 31.296875 18.609375 23.390625 \nQ 18.609375 15.53125 22.484375 10.953125 \nQ 26.375 6.390625 33.015625 6.390625 \nQ 39.65625 6.390625 43.53125 10.953125 \nQ 47.40625 15.53125 47.40625 23.390625 \nQ 47.40625 31.296875 43.53125 35.828125 \nQ 39.65625 40.375 33.015625 40.375 \nz\nM 52.59375 71.296875 \nL 52.59375 62.3125 \nQ 48.875 64.0625 45.09375 64.984375 \nQ 41.3125 65.921875 37.59375 65.921875 \nQ 27.828125 65.921875 22.671875 59.328125 \nQ 17.53125 52.734375 16.796875 39.40625 \nQ 19.671875 43.65625 24.015625 45.921875 \nQ 28.375 48.1875 33.59375 48.1875 \nQ 44.578125 48.1875 50.953125 41.515625 \nQ 57.328125 34.859375 57.328125 23.390625 \nQ 57.328125 12.15625 50.6875 5.359375 \nQ 44.046875 -1.421875 33.015625 -1.421875 \nQ 20.359375 -1.421875 13.671875 8.265625 \nQ 6.984375 17.96875 6.984375 36.375 \nQ 6.984375 53.65625 15.1875 63.9375 \nQ 23.390625 74.21875 37.203125 74.21875 \nQ 40.921875 74.21875 44.703125 73.484375 \nQ 48.484375 72.75 52.59375 71.296875 \nz\n\" id=\"DejaVuSans-54\"/>\n       </defs>\n       <use xlink:href=\"#DejaVuSans-54\"/>\n      </g>\n     </g>\n    </g>\n    <g id=\"xtick_5\">\n     <g id=\"line2d_5\">\n      <g>\n       <use style=\"stroke:#000000;stroke-width:0.8;\" x=\"246.300131\" xlink:href=\"#m74a937f42a\" y=\"239.758125\"/>\n      </g>\n     </g>\n     <g id=\"text_5\">\n      <!-- 8 -->\n      <g transform=\"translate(243.118881 254.356562)scale(0.1 -0.1)\">\n       <defs>\n        <path d=\"M 31.78125 34.625 \nQ 24.75 34.625 20.71875 30.859375 \nQ 16.703125 27.09375 16.703125 20.515625 \nQ 16.703125 13.921875 20.71875 10.15625 \nQ 24.75 6.390625 31.78125 6.390625 \nQ 38.8125 6.390625 42.859375 10.171875 \nQ 46.921875 13.96875 46.921875 20.515625 \nQ 46.921875 27.09375 42.890625 30.859375 \nQ 38.875 34.625 31.78125 34.625 \nz\nM 21.921875 38.8125 \nQ 15.578125 40.375 12.03125 44.71875 \nQ 8.5 49.078125 8.5 55.328125 \nQ 8.5 64.0625 14.71875 69.140625 \nQ 20.953125 74.21875 31.78125 74.21875 \nQ 42.671875 74.21875 48.875 69.140625 \nQ 55.078125 64.0625 55.078125 55.328125 \nQ 55.078125 49.078125 51.53125 44.71875 \nQ 48 40.375 41.703125 38.8125 \nQ 48.828125 37.15625 52.796875 32.3125 \nQ 56.78125 27.484375 56.78125 20.515625 \nQ 56.78125 9.90625 50.3125 4.234375 \nQ 43.84375 -1.421875 31.78125 -1.421875 \nQ 19.734375 -1.421875 13.25 4.234375 \nQ 6.78125 9.90625 6.78125 20.515625 \nQ 6.78125 27.484375 10.78125 32.3125 \nQ 14.796875 37.15625 21.921875 38.8125 \nz\nM 18.3125 54.390625 \nQ 18.3125 48.734375 21.84375 45.5625 \nQ 25.390625 42.390625 31.78125 42.390625 \nQ 38.140625 42.390625 41.71875 45.5625 \nQ 45.3125 48.734375 45.3125 54.390625 \nQ 45.3125 60.0625 41.71875 63.234375 \nQ 38.140625 66.40625 31.78125 66.40625 \nQ 25.390625 66.40625 21.84375 63.234375 \nQ 18.3125 60.0625 18.3125 54.390625 \nz\n\" id=\"DejaVuSans-56\"/>\n       </defs>\n       <use xlink:href=\"#DejaVuSans-56\"/>\n      </g>\n     </g>\n    </g>\n    <g id=\"xtick_6\">\n     <g id=\"line2d_6\">\n      <g>\n       <use style=\"stroke:#000000;stroke-width:0.8;\" x=\"293.125306\" xlink:href=\"#m74a937f42a\" y=\"239.758125\"/>\n      </g>\n     </g>\n     <g id=\"text_6\">\n      <!-- 10 -->\n      <g transform=\"translate(286.762806 254.356562)scale(0.1 -0.1)\">\n       <defs>\n        <path d=\"M 12.40625 8.296875 \nL 28.515625 8.296875 \nL 28.515625 63.921875 \nL 10.984375 60.40625 \nL 10.984375 69.390625 \nL 28.421875 72.90625 \nL 38.28125 72.90625 \nL 38.28125 8.296875 \nL 54.390625 8.296875 \nL 54.390625 0 \nL 12.40625 0 \nz\n\" id=\"DejaVuSans-49\"/>\n       </defs>\n       <use xlink:href=\"#DejaVuSans-49\"/>\n       <use x=\"63.623047\" xlink:href=\"#DejaVuSans-48\"/>\n      </g>\n     </g>\n    </g>\n    <g id=\"xtick_7\">\n     <g id=\"line2d_7\">\n      <g>\n       <use style=\"stroke:#000000;stroke-width:0.8;\" x=\"339.950481\" xlink:href=\"#m74a937f42a\" y=\"239.758125\"/>\n      </g>\n     </g>\n     <g id=\"text_7\">\n      <!-- 12 -->\n      <g transform=\"translate(333.587981 254.356562)scale(0.1 -0.1)\">\n       <use xlink:href=\"#DejaVuSans-49\"/>\n       <use x=\"63.623047\" xlink:href=\"#DejaVuSans-50\"/>\n      </g>\n     </g>\n    </g>\n    <g id=\"text_8\">\n     <!-- iteration -->\n     <g transform=\"translate(190.058594 268.034687)scale(0.1 -0.1)\">\n      <defs>\n       <path d=\"M 9.421875 54.6875 \nL 18.40625 54.6875 \nL 18.40625 0 \nL 9.421875 0 \nz\nM 9.421875 75.984375 \nL 18.40625 75.984375 \nL 18.40625 64.59375 \nL 9.421875 64.59375 \nz\n\" id=\"DejaVuSans-105\"/>\n       <path d=\"M 18.3125 70.21875 \nL 18.3125 54.6875 \nL 36.8125 54.6875 \nL 36.8125 47.703125 \nL 18.3125 47.703125 \nL 18.3125 18.015625 \nQ 18.3125 11.328125 20.140625 9.421875 \nQ 21.96875 7.515625 27.59375 7.515625 \nL 36.8125 7.515625 \nL 36.8125 0 \nL 27.59375 0 \nQ 17.1875 0 13.234375 3.875 \nQ 9.28125 7.765625 9.28125 18.015625 \nL 9.28125 47.703125 \nL 2.6875 47.703125 \nL 2.6875 54.6875 \nL 9.28125 54.6875 \nL 9.28125 70.21875 \nz\n\" id=\"DejaVuSans-116\"/>\n       <path d=\"M 56.203125 29.59375 \nL 56.203125 25.203125 \nL 14.890625 25.203125 \nQ 15.484375 15.921875 20.484375 11.0625 \nQ 25.484375 6.203125 34.421875 6.203125 \nQ 39.59375 6.203125 44.453125 7.46875 \nQ 49.3125 8.734375 54.109375 11.28125 \nL 54.109375 2.78125 \nQ 49.265625 0.734375 44.1875 -0.34375 \nQ 39.109375 -1.421875 33.890625 -1.421875 \nQ 20.796875 -1.421875 13.15625 6.1875 \nQ 5.515625 13.8125 5.515625 26.8125 \nQ 5.515625 40.234375 12.765625 48.109375 \nQ 20.015625 56 32.328125 56 \nQ 43.359375 56 49.78125 48.890625 \nQ 56.203125 41.796875 56.203125 29.59375 \nz\nM 47.21875 32.234375 \nQ 47.125 39.59375 43.09375 43.984375 \nQ 39.0625 48.390625 32.421875 48.390625 \nQ 24.90625 48.390625 20.390625 44.140625 \nQ 15.875 39.890625 15.1875 32.171875 \nz\n\" id=\"DejaVuSans-101\"/>\n       <path d=\"M 41.109375 46.296875 \nQ 39.59375 47.171875 37.8125 47.578125 \nQ 36.03125 48 33.890625 48 \nQ 26.265625 48 22.1875 43.046875 \nQ 18.109375 38.09375 18.109375 28.8125 \nL 18.109375 0 \nL 9.078125 0 \nL 9.078125 54.6875 \nL 18.109375 54.6875 \nL 18.109375 46.1875 \nQ 20.953125 51.171875 25.484375 53.578125 \nQ 30.03125 56 36.53125 56 \nQ 37.453125 56 38.578125 55.875 \nQ 39.703125 55.765625 41.0625 55.515625 \nz\n\" id=\"DejaVuSans-114\"/>\n       <path d=\"M 34.28125 27.484375 \nQ 23.390625 27.484375 19.1875 25 \nQ 14.984375 22.515625 14.984375 16.5 \nQ 14.984375 11.71875 18.140625 8.90625 \nQ 21.296875 6.109375 26.703125 6.109375 \nQ 34.1875 6.109375 38.703125 11.40625 \nQ 43.21875 16.703125 43.21875 25.484375 \nL 43.21875 27.484375 \nz\nM 52.203125 31.203125 \nL 52.203125 0 \nL 43.21875 0 \nL 43.21875 8.296875 \nQ 40.140625 3.328125 35.546875 0.953125 \nQ 30.953125 -1.421875 24.3125 -1.421875 \nQ 15.921875 -1.421875 10.953125 3.296875 \nQ 6 8.015625 6 15.921875 \nQ 6 25.140625 12.171875 29.828125 \nQ 18.359375 34.515625 30.609375 34.515625 \nL 43.21875 34.515625 \nL 43.21875 35.40625 \nQ 43.21875 41.609375 39.140625 45 \nQ 35.0625 48.390625 27.6875 48.390625 \nQ 23 48.390625 18.546875 47.265625 \nQ 14.109375 46.140625 10.015625 43.890625 \nL 10.015625 52.203125 \nQ 14.9375 54.109375 19.578125 55.046875 \nQ 24.21875 56 28.609375 56 \nQ 40.484375 56 46.34375 49.84375 \nQ 52.203125 43.703125 52.203125 31.203125 \nz\n\" id=\"DejaVuSans-97\"/>\n       <path d=\"M 30.609375 48.390625 \nQ 23.390625 48.390625 19.1875 42.75 \nQ 14.984375 37.109375 14.984375 27.296875 \nQ 14.984375 17.484375 19.15625 11.84375 \nQ 23.34375 6.203125 30.609375 6.203125 \nQ 37.796875 6.203125 41.984375 11.859375 \nQ 46.1875 17.53125 46.1875 27.296875 \nQ 46.1875 37.015625 41.984375 42.703125 \nQ 37.796875 48.390625 30.609375 48.390625 \nz\nM 30.609375 56 \nQ 42.328125 56 49.015625 48.375 \nQ 55.71875 40.765625 55.71875 27.296875 \nQ 55.71875 13.875 49.015625 6.21875 \nQ 42.328125 -1.421875 30.609375 -1.421875 \nQ 18.84375 -1.421875 12.171875 6.21875 \nQ 5.515625 13.875 5.515625 27.296875 \nQ 5.515625 40.765625 12.171875 48.375 \nQ 18.84375 56 30.609375 56 \nz\n\" id=\"DejaVuSans-111\"/>\n       <path d=\"M 54.890625 33.015625 \nL 54.890625 0 \nL 45.90625 0 \nL 45.90625 32.71875 \nQ 45.90625 40.484375 42.875 44.328125 \nQ 39.84375 48.1875 33.796875 48.1875 \nQ 26.515625 48.1875 22.3125 43.546875 \nQ 18.109375 38.921875 18.109375 30.90625 \nL 18.109375 0 \nL 9.078125 0 \nL 9.078125 54.6875 \nL 18.109375 54.6875 \nL 18.109375 46.1875 \nQ 21.34375 51.125 25.703125 53.5625 \nQ 30.078125 56 35.796875 56 \nQ 45.21875 56 50.046875 50.171875 \nQ 54.890625 44.34375 54.890625 33.015625 \nz\n\" id=\"DejaVuSans-110\"/>\n      </defs>\n      <use xlink:href=\"#DejaVuSans-105\"/>\n      <use x=\"27.783203\" xlink:href=\"#DejaVuSans-116\"/>\n      <use x=\"66.992188\" xlink:href=\"#DejaVuSans-101\"/>\n      <use x=\"128.515625\" xlink:href=\"#DejaVuSans-114\"/>\n      <use x=\"169.628906\" xlink:href=\"#DejaVuSans-97\"/>\n      <use x=\"230.908203\" xlink:href=\"#DejaVuSans-116\"/>\n      <use x=\"270.117188\" xlink:href=\"#DejaVuSans-105\"/>\n      <use x=\"297.900391\" xlink:href=\"#DejaVuSans-111\"/>\n      <use x=\"359.082031\" xlink:href=\"#DejaVuSans-110\"/>\n     </g>\n    </g>\n   </g>\n   <g id=\"matplotlib.axis_2\">\n    <g id=\"ytick_1\">\n     <g id=\"line2d_8\">\n      <defs>\n       <path d=\"M 0 0 \nL -3.5 0 \n\" id=\"m983e36b959\" style=\"stroke:#000000;stroke-width:0.8;\"/>\n      </defs>\n      <g>\n       <use style=\"stroke:#000000;stroke-width:0.8;\" x=\"43.78125\" xlink:href=\"#m983e36b959\" y=\"206.12307\"/>\n      </g>\n     </g>\n     <g id=\"text_9\">\n      <!-- 0.6 -->\n      <g transform=\"translate(20.878125 209.922288)scale(0.1 -0.1)\">\n       <defs>\n        <path d=\"M 10.6875 12.40625 \nL 21 12.40625 \nL 21 0 \nL 10.6875 0 \nz\n\" id=\"DejaVuSans-46\"/>\n       </defs>\n       <use xlink:href=\"#DejaVuSans-48\"/>\n       <use x=\"63.623047\" xlink:href=\"#DejaVuSans-46\"/>\n       <use x=\"95.410156\" xlink:href=\"#DejaVuSans-54\"/>\n      </g>\n     </g>\n    </g>\n    <g id=\"ytick_2\">\n     <g id=\"line2d_9\">\n      <g>\n       <use style=\"stroke:#000000;stroke-width:0.8;\" x=\"43.78125\" xlink:href=\"#m983e36b959\" y=\"168.991308\"/>\n      </g>\n     </g>\n     <g id=\"text_10\">\n      <!-- 0.8 -->\n      <g transform=\"translate(20.878125 172.790527)scale(0.1 -0.1)\">\n       <use xlink:href=\"#DejaVuSans-48\"/>\n       <use x=\"63.623047\" xlink:href=\"#DejaVuSans-46\"/>\n       <use x=\"95.410156\" xlink:href=\"#DejaVuSans-56\"/>\n      </g>\n     </g>\n    </g>\n    <g id=\"ytick_3\">\n     <g id=\"line2d_10\">\n      <g>\n       <use style=\"stroke:#000000;stroke-width:0.8;\" x=\"43.78125\" xlink:href=\"#m983e36b959\" y=\"131.859547\"/>\n      </g>\n     </g>\n     <g id=\"text_11\">\n      <!-- 1.0 -->\n      <g transform=\"translate(20.878125 135.658766)scale(0.1 -0.1)\">\n       <use xlink:href=\"#DejaVuSans-49\"/>\n       <use x=\"63.623047\" xlink:href=\"#DejaVuSans-46\"/>\n       <use x=\"95.410156\" xlink:href=\"#DejaVuSans-48\"/>\n      </g>\n     </g>\n    </g>\n    <g id=\"ytick_4\">\n     <g id=\"line2d_11\">\n      <g>\n       <use style=\"stroke:#000000;stroke-width:0.8;\" x=\"43.78125\" xlink:href=\"#m983e36b959\" y=\"94.727786\"/>\n      </g>\n     </g>\n     <g id=\"text_12\">\n      <!-- 1.2 -->\n      <g transform=\"translate(20.878125 98.527005)scale(0.1 -0.1)\">\n       <use xlink:href=\"#DejaVuSans-49\"/>\n       <use x=\"63.623047\" xlink:href=\"#DejaVuSans-46\"/>\n       <use x=\"95.410156\" xlink:href=\"#DejaVuSans-50\"/>\n      </g>\n     </g>\n    </g>\n    <g id=\"ytick_5\">\n     <g id=\"line2d_12\">\n      <g>\n       <use style=\"stroke:#000000;stroke-width:0.8;\" x=\"43.78125\" xlink:href=\"#m983e36b959\" y=\"57.596025\"/>\n      </g>\n     </g>\n     <g id=\"text_13\">\n      <!-- 1.4 -->\n      <g transform=\"translate(20.878125 61.395244)scale(0.1 -0.1)\">\n       <use xlink:href=\"#DejaVuSans-49\"/>\n       <use x=\"63.623047\" xlink:href=\"#DejaVuSans-46\"/>\n       <use x=\"95.410156\" xlink:href=\"#DejaVuSans-52\"/>\n      </g>\n     </g>\n    </g>\n    <g id=\"text_14\">\n     <!-- acc/loss -->\n     <g transform=\"translate(14.798438 150.942812)rotate(-90)scale(0.1 -0.1)\">\n      <defs>\n       <path d=\"M 48.78125 52.59375 \nL 48.78125 44.1875 \nQ 44.96875 46.296875 41.140625 47.34375 \nQ 37.3125 48.390625 33.40625 48.390625 \nQ 24.65625 48.390625 19.8125 42.84375 \nQ 14.984375 37.3125 14.984375 27.296875 \nQ 14.984375 17.28125 19.8125 11.734375 \nQ 24.65625 6.203125 33.40625 6.203125 \nQ 37.3125 6.203125 41.140625 7.25 \nQ 44.96875 8.296875 48.78125 10.40625 \nL 48.78125 2.09375 \nQ 45.015625 0.34375 40.984375 -0.53125 \nQ 36.96875 -1.421875 32.421875 -1.421875 \nQ 20.0625 -1.421875 12.78125 6.34375 \nQ 5.515625 14.109375 5.515625 27.296875 \nQ 5.515625 40.671875 12.859375 48.328125 \nQ 20.21875 56 33.015625 56 \nQ 37.15625 56 41.109375 55.140625 \nQ 45.0625 54.296875 48.78125 52.59375 \nz\n\" id=\"DejaVuSans-99\"/>\n       <path d=\"M 25.390625 72.90625 \nL 33.6875 72.90625 \nL 8.296875 -9.28125 \nL 0 -9.28125 \nz\n\" id=\"DejaVuSans-47\"/>\n       <path d=\"M 9.421875 75.984375 \nL 18.40625 75.984375 \nL 18.40625 0 \nL 9.421875 0 \nz\n\" id=\"DejaVuSans-108\"/>\n       <path d=\"M 44.28125 53.078125 \nL 44.28125 44.578125 \nQ 40.484375 46.53125 36.375 47.5 \nQ 32.28125 48.484375 27.875 48.484375 \nQ 21.1875 48.484375 17.84375 46.4375 \nQ 14.5 44.390625 14.5 40.28125 \nQ 14.5 37.15625 16.890625 35.375 \nQ 19.28125 33.59375 26.515625 31.984375 \nL 29.59375 31.296875 \nQ 39.15625 29.25 43.1875 25.515625 \nQ 47.21875 21.78125 47.21875 15.09375 \nQ 47.21875 7.46875 41.1875 3.015625 \nQ 35.15625 -1.421875 24.609375 -1.421875 \nQ 20.21875 -1.421875 15.453125 -0.5625 \nQ 10.6875 0.296875 5.421875 2 \nL 5.421875 11.28125 \nQ 10.40625 8.6875 15.234375 7.390625 \nQ 20.0625 6.109375 24.8125 6.109375 \nQ 31.15625 6.109375 34.5625 8.28125 \nQ 37.984375 10.453125 37.984375 14.40625 \nQ 37.984375 18.0625 35.515625 20.015625 \nQ 33.0625 21.96875 24.703125 23.78125 \nL 21.578125 24.515625 \nQ 13.234375 26.265625 9.515625 29.90625 \nQ 5.8125 33.546875 5.8125 39.890625 \nQ 5.8125 47.609375 11.28125 51.796875 \nQ 16.75 56 26.8125 56 \nQ 31.78125 56 36.171875 55.265625 \nQ 40.578125 54.546875 44.28125 53.078125 \nz\n\" id=\"DejaVuSans-115\"/>\n      </defs>\n      <use xlink:href=\"#DejaVuSans-97\"/>\n      <use x=\"61.279297\" xlink:href=\"#DejaVuSans-99\"/>\n      <use x=\"116.259766\" xlink:href=\"#DejaVuSans-99\"/>\n      <use x=\"171.240234\" xlink:href=\"#DejaVuSans-47\"/>\n      <use x=\"204.931641\" xlink:href=\"#DejaVuSans-108\"/>\n      <use x=\"232.714844\" xlink:href=\"#DejaVuSans-111\"/>\n      <use x=\"293.896484\" xlink:href=\"#DejaVuSans-115\"/>\n      <use x=\"345.996094\" xlink:href=\"#DejaVuSans-115\"/>\n     </g>\n    </g>\n   </g>\n   <g id=\"line2d_13\">\n    <path clip-path=\"url(#p6ed32817cd)\" d=\"M 58.999432 212.226603 \nL 82.412019 184.609856 \nL 105.824607 179.527446 \nL 129.237194 174.514658 \nL 152.649781 171.07997 \nL 176.062369 169.432248 \nL 199.474956 168.480747 \nL 222.887544 165.811901 \nL 246.300131 165.254925 \nL 269.712719 165.394169 \nL 293.125306 163.37513 \nL 316.537893 162.748531 \nL 339.950481 162.516458 \nL 363.363068 163.003812 \n\" style=\"fill:none;stroke:#1f77b4;stroke-linecap:square;stroke-width:1.5;\"/>\n   </g>\n   <g id=\"line2d_14\">\n    <path clip-path=\"url(#p6ed32817cd)\" d=\"M 58.999432 32.201761 \nL 82.412019 149.095924 \nL 105.824607 179.299046 \nL 129.237194 195.3673 \nL 152.649781 203.980571 \nL 176.062369 210.210496 \nL 199.474956 214.306045 \nL 222.887544 220.597913 \nL 246.300131 223.156946 \nL 269.712719 222.713426 \nL 293.125306 227.336978 \nL 316.537893 227.842929 \nL 339.950481 229.783732 \nL 363.363068 229.874489 \n\" style=\"fill:none;stroke:#ff7f0e;stroke-linecap:square;stroke-width:1.5;\"/>\n   </g>\n   <g id=\"patch_3\">\n    <path d=\"M 43.78125 239.758125 \nL 43.78125 22.318125 \n\" style=\"fill:none;stroke:#000000;stroke-linecap:square;stroke-linejoin:miter;stroke-width:0.8;\"/>\n   </g>\n   <g id=\"patch_4\">\n    <path d=\"M 378.58125 239.758125 \nL 378.58125 22.318125 \n\" style=\"fill:none;stroke:#000000;stroke-linecap:square;stroke-linejoin:miter;stroke-width:0.8;\"/>\n   </g>\n   <g id=\"patch_5\">\n    <path d=\"M 43.78125 239.758125 \nL 378.58125 239.758125 \n\" style=\"fill:none;stroke:#000000;stroke-linecap:square;stroke-linejoin:miter;stroke-width:0.8;\"/>\n   </g>\n   <g id=\"patch_6\">\n    <path d=\"M 43.78125 22.318125 \nL 378.58125 22.318125 \n\" style=\"fill:none;stroke:#000000;stroke-linecap:square;stroke-linejoin:miter;stroke-width:0.8;\"/>\n   </g>\n   <g id=\"text_15\">\n    <!-- FashionMNIST -->\n    <g transform=\"translate(169.622813 16.318125)scale(0.12 -0.12)\">\n     <defs>\n      <path d=\"M 9.8125 72.90625 \nL 51.703125 72.90625 \nL 51.703125 64.59375 \nL 19.671875 64.59375 \nL 19.671875 43.109375 \nL 48.578125 43.109375 \nL 48.578125 34.8125 \nL 19.671875 34.8125 \nL 19.671875 0 \nL 9.8125 0 \nz\n\" id=\"DejaVuSans-70\"/>\n      <path d=\"M 54.890625 33.015625 \nL 54.890625 0 \nL 45.90625 0 \nL 45.90625 32.71875 \nQ 45.90625 40.484375 42.875 44.328125 \nQ 39.84375 48.1875 33.796875 48.1875 \nQ 26.515625 48.1875 22.3125 43.546875 \nQ 18.109375 38.921875 18.109375 30.90625 \nL 18.109375 0 \nL 9.078125 0 \nL 9.078125 75.984375 \nL 18.109375 75.984375 \nL 18.109375 46.1875 \nQ 21.34375 51.125 25.703125 53.5625 \nQ 30.078125 56 35.796875 56 \nQ 45.21875 56 50.046875 50.171875 \nQ 54.890625 44.34375 54.890625 33.015625 \nz\n\" id=\"DejaVuSans-104\"/>\n      <path d=\"M 9.8125 72.90625 \nL 24.515625 72.90625 \nL 43.109375 23.296875 \nL 61.8125 72.90625 \nL 76.515625 72.90625 \nL 76.515625 0 \nL 66.890625 0 \nL 66.890625 64.015625 \nL 48.09375 14.015625 \nL 38.1875 14.015625 \nL 19.390625 64.015625 \nL 19.390625 0 \nL 9.8125 0 \nz\n\" id=\"DejaVuSans-77\"/>\n      <path d=\"M 9.8125 72.90625 \nL 23.09375 72.90625 \nL 55.421875 11.921875 \nL 55.421875 72.90625 \nL 64.984375 72.90625 \nL 64.984375 0 \nL 51.703125 0 \nL 19.390625 60.984375 \nL 19.390625 0 \nL 9.8125 0 \nz\n\" id=\"DejaVuSans-78\"/>\n      <path d=\"M 9.8125 72.90625 \nL 19.671875 72.90625 \nL 19.671875 0 \nL 9.8125 0 \nz\n\" id=\"DejaVuSans-73\"/>\n      <path d=\"M 53.515625 70.515625 \nL 53.515625 60.890625 \nQ 47.90625 63.578125 42.921875 64.890625 \nQ 37.9375 66.21875 33.296875 66.21875 \nQ 25.25 66.21875 20.875 63.09375 \nQ 16.5 59.96875 16.5 54.203125 \nQ 16.5 49.359375 19.40625 46.890625 \nQ 22.3125 44.4375 30.421875 42.921875 \nL 36.375 41.703125 \nQ 47.40625 39.59375 52.65625 34.296875 \nQ 57.90625 29 57.90625 20.125 \nQ 57.90625 9.515625 50.796875 4.046875 \nQ 43.703125 -1.421875 29.984375 -1.421875 \nQ 24.8125 -1.421875 18.96875 -0.25 \nQ 13.140625 0.921875 6.890625 3.21875 \nL 6.890625 13.375 \nQ 12.890625 10.015625 18.65625 8.296875 \nQ 24.421875 6.59375 29.984375 6.59375 \nQ 38.421875 6.59375 43.015625 9.90625 \nQ 47.609375 13.234375 47.609375 19.390625 \nQ 47.609375 24.75 44.3125 27.78125 \nQ 41.015625 30.8125 33.5 32.328125 \nL 27.484375 33.5 \nQ 16.453125 35.6875 11.515625 40.375 \nQ 6.59375 45.0625 6.59375 53.421875 \nQ 6.59375 63.09375 13.40625 68.65625 \nQ 20.21875 74.21875 32.171875 74.21875 \nQ 37.3125 74.21875 42.625 73.28125 \nQ 47.953125 72.359375 53.515625 70.515625 \nz\n\" id=\"DejaVuSans-83\"/>\n      <path d=\"M -0.296875 72.90625 \nL 61.375 72.90625 \nL 61.375 64.59375 \nL 35.5 64.59375 \nL 35.5 0 \nL 25.59375 0 \nL 25.59375 64.59375 \nL -0.296875 64.59375 \nz\n\" id=\"DejaVuSans-84\"/>\n     </defs>\n     <use xlink:href=\"#DejaVuSans-70\"/>\n     <use x=\"48.394531\" xlink:href=\"#DejaVuSans-97\"/>\n     <use x=\"109.673828\" xlink:href=\"#DejaVuSans-115\"/>\n     <use x=\"161.773438\" xlink:href=\"#DejaVuSans-104\"/>\n     <use x=\"225.152344\" xlink:href=\"#DejaVuSans-105\"/>\n     <use x=\"252.935547\" xlink:href=\"#DejaVuSans-111\"/>\n     <use x=\"314.117188\" xlink:href=\"#DejaVuSans-110\"/>\n     <use x=\"377.496094\" xlink:href=\"#DejaVuSans-77\"/>\n     <use x=\"463.775391\" xlink:href=\"#DejaVuSans-78\"/>\n     <use x=\"538.580078\" xlink:href=\"#DejaVuSans-73\"/>\n     <use x=\"568.072266\" xlink:href=\"#DejaVuSans-83\"/>\n     <use x=\"631.548828\" xlink:href=\"#DejaVuSans-84\"/>\n    </g>\n   </g>\n   <g id=\"legend_1\">\n    <g id=\"patch_7\">\n     <path d=\"M 320.265625 59.674375 \nL 371.58125 59.674375 \nQ 373.58125 59.674375 373.58125 57.674375 \nL 373.58125 29.318125 \nQ 373.58125 27.318125 371.58125 27.318125 \nL 320.265625 27.318125 \nQ 318.265625 27.318125 318.265625 29.318125 \nL 318.265625 57.674375 \nQ 318.265625 59.674375 320.265625 59.674375 \nz\n\" style=\"fill:#ffffff;opacity:0.8;stroke:#cccccc;stroke-linejoin:miter;\"/>\n    </g>\n    <g id=\"line2d_15\">\n     <path d=\"M 322.265625 35.416562 \nL 342.265625 35.416562 \n\" style=\"fill:none;stroke:#1f77b4;stroke-linecap:square;stroke-width:1.5;\"/>\n    </g>\n    <g id=\"line2d_16\"/>\n    <g id=\"text_16\">\n     <!-- acc -->\n     <g transform=\"translate(350.265625 38.916562)scale(0.1 -0.1)\">\n      <use xlink:href=\"#DejaVuSans-97\"/>\n      <use x=\"61.279297\" xlink:href=\"#DejaVuSans-99\"/>\n      <use x=\"116.259766\" xlink:href=\"#DejaVuSans-99\"/>\n     </g>\n    </g>\n    <g id=\"line2d_17\">\n     <path d=\"M 322.265625 50.094687 \nL 342.265625 50.094687 \n\" style=\"fill:none;stroke:#ff7f0e;stroke-linecap:square;stroke-width:1.5;\"/>\n    </g>\n    <g id=\"line2d_18\"/>\n    <g id=\"text_17\">\n     <!-- loss -->\n     <g transform=\"translate(350.265625 53.594687)scale(0.1 -0.1)\">\n      <use xlink:href=\"#DejaVuSans-108\"/>\n      <use x=\"27.783203\" xlink:href=\"#DejaVuSans-111\"/>\n      <use x=\"88.964844\" xlink:href=\"#DejaVuSans-115\"/>\n      <use x=\"141.064453\" xlink:href=\"#DejaVuSans-115\"/>\n     </g>\n    </g>\n   </g>\n  </g>\n </g>\n <defs>\n  <clipPath id=\"p6ed32817cd\">\n   <rect height=\"217.44\" width=\"334.8\" x=\"43.78125\" y=\"22.318125\"/>\n  </clipPath>\n </defs>\n</svg>\n",
      "image/png": "[encoded data removed]"
     },
     "metadata": {
      "needs_background": "light"
     }
    }
   ],
   "source": [
    "plt.plot(train_acc_history)\n",
    "plt.plot(train_loss_history)\n",
    "plt.title(\"FashionMNIST\")\n",
    "plt.xlabel('iteration')\n",
    "plt.ylabel('acc/loss')\n",
    "plt.legend(['acc', 'loss'])\n",
    "plt.show()\n"
   ]
  },
  {
   "cell_type": "markdown",
   "metadata": {},
   "source": [
    "### 2.5 Test the network on the test data\n",
    "\n",
    "We have trained the network for 2 passes over the training dataset. Now we want to check\n",
    "the model by predicting the class label that the neural network outputs, and checking it\n",
    "against the ground-truth. If the prediction is correct, we add the sample to the list of\n",
    "correct predictions.\n",
    "\n",
    "And we'll visualize the data to display test images and their labels in the following format: `predicted (ground-truth)`. The text will be green for accurately classified examples and red for incorrect predictions."
   ]
  },
  {
   "cell_type": "code",
   "execution_count": 32,
   "metadata": {
    "pycharm": {
     "name": "#%%\n"
    }
   },
   "outputs": [
    {
     "output_type": "display_data",
     "data": {
      "text/plain": "<Figure size 1800x288 with 8 Axes>",
      "image/svg+xml": "<?xml version=\"1.0\" encoding=\"utf-8\" standalone=\"no\"?>\n<!DOCTYPE svg PUBLIC \"-//W3C//DTD SVG 1.1//EN\"\n  \"http://www.w3.org/Graphics/SVG/1.1/DTD/svg11.dtd\">\n<!-- Created with matplotlib (https://matplotlib.org/) -->\n<svg height=\"250.458125pt\" version=\"1.1\" viewBox=\"0 0 1227.356005 250.458125\" width=\"1227.356005pt\" xmlns=\"http://www.w3.org/2000/svg\" xmlns:xlink=\"http://www.w3.org/1999/xlink\">\n <metadata>\n  <rdf:RDF xmlns:cc=\"http://creativecommons.org/ns#\" xmlns:dc=\"http://purl.org/dc/elements/1.1/\" xmlns:rdf=\"http://www.w3.org/1999/02/22-rdf-syntax-ns#\">\n   <cc:Work>\n    <dc:type rdf:resource=\"http://purl.org/dc/dcmitype/StillImage\"/>\n    <dc:date>2020-09-14T22:10:00.345792</dc:date>\n    <dc:format>image/svg+xml</dc:format>\n    <dc:creator>\n     <cc:Agent>\n      <dc:title>Matplotlib v3.3.1, https://matplotlib.org/</dc:title>\n     </cc:Agent>\n    </dc:creator>\n   </cc:Work>\n  </rdf:RDF>\n </metadata>\n <defs>\n  <style type=\"text/css\">*{stroke-linecap:butt;stroke-linejoin:round;}</style>\n </defs>\n <g id=\"figure_1\">\n  <g id=\"patch_1\">\n   <path d=\"M 0 250.458125 \nL 1227.356005 250.458125 \nL 1227.356005 0 \nL 0 0 \nz\n\" style=\"fill:none;\"/>\n  </g>\n  <g id=\"axes_1\">\n   <g id=\"patch_2\">\n    <path d=\"M 28.671818 121.154489 \nL 127.508182 121.154489 \nL 127.508182 22.318125 \nL 28.671818 22.318125 \nz\n\" style=\"fill:#ffffff;\"/>\n   </g>\n   <g clip-path=\"url(#pf7be22b5ec)\">\n    <image height=\"99\" id=\"imagecf2441b191\" transform=\"scale(1 -1)translate(0 -99)\" width=\"99\" x=\"28.671818\" xlink:href=\"data:image/png;base64,\niVBORw0KGgoAAAANSUhEUgAAAGMAAABjCAYAAACPO76VAAAFLElEQVR4nO2cuUssXRDFa3Tcd9wNFMENRAQDBWPBSAMzQ801Esz8KwzMDAwMzEzEJRMzMRBcQAMDd9z33ZddT9VjmlF476vHd35R3Smnu+3DrapbfXtiIvIpxAUp//UFkC8ohiMohiMohiMohiMohiMohiMohiMohiMohiMohiMohiMohiMohiMohiMohiMohiMohiMohiMohiPi3/nj3NzcYHd0dChfQ0NDsDs7O5WvrKws2Pn5+cqXk5MT7Fgspnyfn197JT4+PpTv4uIi2Nvb28q3uLioxnNzc8F+enqSZJmdnQ12dXW18p2dnQX79vZW+XD89vamfM/Pz8EeGRlRPs4MR1AMR1AMR8QKCwvVJrbh4eFgt7S0qD8uKipKeCCMjTaGYnxHW0Tk+vo62Onp6friIIcUFxcrX2NjY7Czs7OVz+YlzD2tra3Kt76+Huy9vT3l6+rqCnZGRkbCY1rwXhwcHCjfzc1NsAcHB5WPM8MRFMMR8fb2dvVBc3NzsDc3N5Xv6Ogo2FiiiYikpqYG++XlJaHPkpaWFmwbpt7f34NtS9LDw8NgZ2VlKV9JSYkaY4jZ2tpSvvLy8mDn5eUp39raWrCj/of7+3s1xrBpr/v19TXYd3d3yseZ4QiK4QiK4Yj4wsKC+gDbDlVVVcqH8Q5bHCIiKSlfutrWBfrQFtEtlszMTOXD0taWlpeXl0mdz/qPj4+VD9sap6enyldfXy+JwBLd5siCgoJg23xWW1sb7N/uYcKzkb8OxXDEb13bpaWlYGPZJyJSU1MTbDvdsfsaNTXtahlDnz0mhhssge05bJiyJSOGEVuiYlfBlus4tmV3omPYsS178VricX37OTMcQTEcQTEcEbcxFFsQJycnymfHyVJaWhpszDsiIk1NTcGurKxUPoyv2N2112m7tJiHRHSewtwmonORfZp3dXUV7IeHh4THtDkKy24s3UV0Xjw/P1c+zgxHUAxHxCTiFxLsShaxD1dwtWxLzWSxK/6+vr5g23IZV8A2FNgyFB9M2Y4urrqtD7H3AstSG27w/Pa6cdXd29urz5Hw7OSvQzEcQTEcEbmJ7TuxH3OIja84xpLUfg+f3omIjI+PB3tgYED5cEOC/V7UU0GblzDX2fIVy17bxsEusl0eYPlsS+mVlRVJBGeGIyiGIyiGI7618Rn5ziblZHNPVGtmcnJS+fr7+4Pd1tamfLirQ0TH/sfHR+XDVordYIfrDpsz8Fqj1lyW+fn5hD7ODEdQDEf8OExF7TWNCmG27EWfLXsxFFjf9PR0sG25WlFRocZY6mInVkR3ke2TNzy/fc8iKvSizz7p29nZSfg9zgxHUAxHUAxH/DhnRBGVT77TYsE8EbUxbWJiQvnGxsbUGHd52NIW84ndDYNP7Oz5sc1hW/b4hNLuOLE5BOHMcATFcMQfCVN/AhvesAy1U39mZkaNe3p6gm07uvjKG+6Rtee0oXdjYyPY9hU3XNXv7+9LsnBmOIJiOIJiOOKfyRkW2x5BVldX1biuri7Y9mc2sD0xNDT0o2ux71l0d3cH2+5ciYIzwxEUwxH/bJhColbnIiLLy8vBtt1X/MWdn2JfP5uamgr26Oho0sfhzHAExXAExXBE5Mbn/xt2Q0RUOwSxr0VjpxbLahGR3d3dhMfhzHAExXAEw5QjODMcQTEcQTEcQTEcQTEcQTEcQTEcQTEcQTEcQTEcQTEcQTEcQTEcQTEcQTEcQTEcQTEcQTEcQTEcQTEcQTEcQTEcQTEcQTEc8QvuGMOpIagH+QAAAABJRU5ErkJggg==\" y=\"-22.154489\"/>\n   </g>\n   <g id=\"matplotlib.axis_1\"/>\n   <g id=\"matplotlib.axis_2\"/>\n   <g id=\"patch_3\">\n    <path d=\"M 28.671818 121.154489 \nL 28.671818 22.318125 \n\" style=\"fill:none;stroke:#000000;stroke-linecap:square;stroke-linejoin:miter;stroke-width:0.8;\"/>\n   </g>\n   <g id=\"patch_4\">\n    <path d=\"M 127.508182 121.154489 \nL 127.508182 22.318125 \n\" style=\"fill:none;stroke:#000000;stroke-linecap:square;stroke-linejoin:miter;stroke-width:0.8;\"/>\n   </g>\n   <g id=\"patch_5\">\n    <path d=\"M 28.671818 121.154489 \nL 127.508182 121.154489 \n\" style=\"fill:none;stroke:#000000;stroke-linecap:square;stroke-linejoin:miter;stroke-width:0.8;\"/>\n   </g>\n   <g id=\"patch_6\">\n    <path d=\"M 28.671818 22.318125 \nL 127.508182 22.318125 \n\" style=\"fill:none;stroke:#000000;stroke-linecap:square;stroke-linejoin:miter;stroke-width:0.8;\"/>\n   </g>\n   <g id=\"text_1\">\n    <!-- Ankle boot (Ankle boot) -->\n    <g style=\"fill:#008000;\" transform=\"translate(7.2 16.318125)scale(0.12 -0.12)\">\n     <defs>\n      <path d=\"M 34.1875 63.1875 \nL 20.796875 26.90625 \nL 47.609375 26.90625 \nz\nM 28.609375 72.90625 \nL 39.796875 72.90625 \nL 67.578125 0 \nL 57.328125 0 \nL 50.6875 18.703125 \nL 17.828125 18.703125 \nL 11.1875 0 \nL 0.78125 0 \nz\n\" id=\"DejaVuSans-65\"/>\n      <path d=\"M 54.890625 33.015625 \nL 54.890625 0 \nL 45.90625 0 \nL 45.90625 32.71875 \nQ 45.90625 40.484375 42.875 44.328125 \nQ 39.84375 48.1875 33.796875 48.1875 \nQ 26.515625 48.1875 22.3125 43.546875 \nQ 18.109375 38.921875 18.109375 30.90625 \nL 18.109375 0 \nL 9.078125 0 \nL 9.078125 54.6875 \nL 18.109375 54.6875 \nL 18.109375 46.1875 \nQ 21.34375 51.125 25.703125 53.5625 \nQ 30.078125 56 35.796875 56 \nQ 45.21875 56 50.046875 50.171875 \nQ 54.890625 44.34375 54.890625 33.015625 \nz\n\" id=\"DejaVuSans-110\"/>\n      <path d=\"M 9.078125 75.984375 \nL 18.109375 75.984375 \nL 18.109375 31.109375 \nL 44.921875 54.6875 \nL 56.390625 54.6875 \nL 27.390625 29.109375 \nL 57.625 0 \nL 45.90625 0 \nL 18.109375 26.703125 \nL 18.109375 0 \nL 9.078125 0 \nz\n\" id=\"DejaVuSans-107\"/>\n      <path d=\"M 9.421875 75.984375 \nL 18.40625 75.984375 \nL 18.40625 0 \nL 9.421875 0 \nz\n\" id=\"DejaVuSans-108\"/>\n      <path d=\"M 56.203125 29.59375 \nL 56.203125 25.203125 \nL 14.890625 25.203125 \nQ 15.484375 15.921875 20.484375 11.0625 \nQ 25.484375 6.203125 34.421875 6.203125 \nQ 39.59375 6.203125 44.453125 7.46875 \nQ 49.3125 8.734375 54.109375 11.28125 \nL 54.109375 2.78125 \nQ 49.265625 0.734375 44.1875 -0.34375 \nQ 39.109375 -1.421875 33.890625 -1.421875 \nQ 20.796875 -1.421875 13.15625 6.1875 \nQ 5.515625 13.8125 5.515625 26.8125 \nQ 5.515625 40.234375 12.765625 48.109375 \nQ 20.015625 56 32.328125 56 \nQ 43.359375 56 49.78125 48.890625 \nQ 56.203125 41.796875 56.203125 29.59375 \nz\nM 47.21875 32.234375 \nQ 47.125 39.59375 43.09375 43.984375 \nQ 39.0625 48.390625 32.421875 48.390625 \nQ 24.90625 48.390625 20.390625 44.140625 \nQ 15.875 39.890625 15.1875 32.171875 \nz\n\" id=\"DejaVuSans-101\"/>\n      <path id=\"DejaVuSans-32\"/>\n      <path d=\"M 48.6875 27.296875 \nQ 48.6875 37.203125 44.609375 42.84375 \nQ 40.53125 48.484375 33.40625 48.484375 \nQ 26.265625 48.484375 22.1875 42.84375 \nQ 18.109375 37.203125 18.109375 27.296875 \nQ 18.109375 17.390625 22.1875 11.75 \nQ 26.265625 6.109375 33.40625 6.109375 \nQ 40.53125 6.109375 44.609375 11.75 \nQ 48.6875 17.390625 48.6875 27.296875 \nz\nM 18.109375 46.390625 \nQ 20.953125 51.265625 25.265625 53.625 \nQ 29.59375 56 35.59375 56 \nQ 45.5625 56 51.78125 48.09375 \nQ 58.015625 40.1875 58.015625 27.296875 \nQ 58.015625 14.40625 51.78125 6.484375 \nQ 45.5625 -1.421875 35.59375 -1.421875 \nQ 29.59375 -1.421875 25.265625 0.953125 \nQ 20.953125 3.328125 18.109375 8.203125 \nL 18.109375 0 \nL 9.078125 0 \nL 9.078125 75.984375 \nL 18.109375 75.984375 \nz\n\" id=\"DejaVuSans-98\"/>\n      <path d=\"M 30.609375 48.390625 \nQ 23.390625 48.390625 19.1875 42.75 \nQ 14.984375 37.109375 14.984375 27.296875 \nQ 14.984375 17.484375 19.15625 11.84375 \nQ 23.34375 6.203125 30.609375 6.203125 \nQ 37.796875 6.203125 41.984375 11.859375 \nQ 46.1875 17.53125 46.1875 27.296875 \nQ 46.1875 37.015625 41.984375 42.703125 \nQ 37.796875 48.390625 30.609375 48.390625 \nz\nM 30.609375 56 \nQ 42.328125 56 49.015625 48.375 \nQ 55.71875 40.765625 55.71875 27.296875 \nQ 55.71875 13.875 49.015625 6.21875 \nQ 42.328125 -1.421875 30.609375 -1.421875 \nQ 18.84375 -1.421875 12.171875 6.21875 \nQ 5.515625 13.875 5.515625 27.296875 \nQ 5.515625 40.765625 12.171875 48.375 \nQ 18.84375 56 30.609375 56 \nz\n\" id=\"DejaVuSans-111\"/>\n      <path d=\"M 18.3125 70.21875 \nL 18.3125 54.6875 \nL 36.8125 54.6875 \nL 36.8125 47.703125 \nL 18.3125 47.703125 \nL 18.3125 18.015625 \nQ 18.3125 11.328125 20.140625 9.421875 \nQ 21.96875 7.515625 27.59375 7.515625 \nL 36.8125 7.515625 \nL 36.8125 0 \nL 27.59375 0 \nQ 17.1875 0 13.234375 3.875 \nQ 9.28125 7.765625 9.28125 18.015625 \nL 9.28125 47.703125 \nL 2.6875 47.703125 \nL 2.6875 54.6875 \nL 9.28125 54.6875 \nL 9.28125 70.21875 \nz\n\" id=\"DejaVuSans-116\"/>\n      <path d=\"M 31 75.875 \nQ 24.46875 64.65625 21.28125 53.65625 \nQ 18.109375 42.671875 18.109375 31.390625 \nQ 18.109375 20.125 21.3125 9.0625 \nQ 24.515625 -2 31 -13.1875 \nL 23.1875 -13.1875 \nQ 15.875 -1.703125 12.234375 9.375 \nQ 8.59375 20.453125 8.59375 31.390625 \nQ 8.59375 42.28125 12.203125 53.3125 \nQ 15.828125 64.359375 23.1875 75.875 \nz\n\" id=\"DejaVuSans-40\"/>\n      <path d=\"M 8.015625 75.875 \nL 15.828125 75.875 \nQ 23.140625 64.359375 26.78125 53.3125 \nQ 30.421875 42.28125 30.421875 31.390625 \nQ 30.421875 20.453125 26.78125 9.375 \nQ 23.140625 -1.703125 15.828125 -13.1875 \nL 8.015625 -13.1875 \nQ 14.5 -2 17.703125 9.0625 \nQ 20.90625 20.125 20.90625 31.390625 \nQ 20.90625 42.671875 17.703125 53.65625 \nQ 14.5 64.65625 8.015625 75.875 \nz\n\" id=\"DejaVuSans-41\"/>\n     </defs>\n     <use xlink:href=\"#DejaVuSans-65\"/>\n     <use x=\"68.408203\" xlink:href=\"#DejaVuSans-110\"/>\n     <use x=\"131.787109\" xlink:href=\"#DejaVuSans-107\"/>\n     <use x=\"189.697266\" xlink:href=\"#DejaVuSans-108\"/>\n     <use x=\"217.480469\" xlink:href=\"#DejaVuSans-101\"/>\n     <use x=\"279.003906\" xlink:href=\"#DejaVuSans-32\"/>\n     <use x=\"310.791016\" xlink:href=\"#DejaVuSans-98\"/>\n     <use x=\"374.267578\" xlink:href=\"#DejaVuSans-111\"/>\n     <use x=\"435.449219\" xlink:href=\"#DejaVuSans-111\"/>\n     <use x=\"496.630859\" xlink:href=\"#DejaVuSans-116\"/>\n     <use x=\"535.839844\" xlink:href=\"#DejaVuSans-32\"/>\n     <use x=\"567.626953\" xlink:href=\"#DejaVuSans-40\"/>\n     <use x=\"606.640625\" xlink:href=\"#DejaVuSans-65\"/>\n     <use x=\"675.048828\" xlink:href=\"#DejaVuSans-110\"/>\n     <use x=\"738.427734\" xlink:href=\"#DejaVuSans-107\"/>\n     <use x=\"796.337891\" xlink:href=\"#DejaVuSans-108\"/>\n     <use x=\"824.121094\" xlink:href=\"#DejaVuSans-101\"/>\n     <use x=\"885.644531\" xlink:href=\"#DejaVuSans-32\"/>\n     <use x=\"917.431641\" xlink:href=\"#DejaVuSans-98\"/>\n     <use x=\"980.908203\" xlink:href=\"#DejaVuSans-111\"/>\n     <use x=\"1042.089844\" xlink:href=\"#DejaVuSans-111\"/>\n     <use x=\"1103.271484\" xlink:href=\"#DejaVuSans-116\"/>\n     <use x=\"1142.480469\" xlink:href=\"#DejaVuSans-41\"/>\n    </g>\n   </g>\n  </g>\n  <g id=\"axes_2\">\n   <g id=\"patch_7\">\n    <path d=\"M 392.584862 121.154489 \nL 491.421225 121.154489 \nL 491.421225 22.318125 \nL 392.584862 22.318125 \nz\n\" style=\"fill:#ffffff;\"/>\n   </g>\n   <g clip-path=\"url(#p7980a8d5e7)\">\n    <image height=\"99\" id=\"image0b4baa73ee\" transform=\"scale(1 -1)translate(0 -99)\" width=\"99\" x=\"392.584862\" xlink:href=\"data:image/png;base64,\niVBORw0KGgoAAAANSUhEUgAAAGMAAABjCAYAAACPO76VAAAHAklEQVR4nO2dO2hVTRDHJw/jO6JEsbDxGUyhEvAGLHwgaBEtYmejhWApgYBNesXexldtoY0WJhCuohACNmqjoglE0Ph+ax4m6tct//l7z95z1puPicyvmsOcu2eTYWfm7M7uqROR35LAtm3b1PWlS5eCPDk5qXT79u0L8vfv35WusbExyD9//lS6urq6lK4lw8/D/jQ0NCjdlStXgrxs2TKlO3XqVJDL5XLu59fnvtOZddwYhnBjGKKx+i2VWbNmjbpub28P8o8fP5Ru8eLFQeaYMTMzk/mM37+TwtmssGHDBnXd2dkZ5KamJqW7efNmkD1mzFHcGIZIdlOlUkldj4+PB5lT1Pr6uW/z6elpdT01NRVkdstLlixJesbc/y/9Q7gxDOHGMERyzNixY4e6Rp+6aNEipdu0aVOQ79y5o3QbN24M8sjIiNLljTXVpk1Q/+vXL6XD1Br7IiJy4cKFIOMUh4jI0qVLg/z+/Xul2759e5UeV8ZHhiHcGIZIdlOYyoroWc158+YpHaZ+LS0tSvfly5cgr1ixIvfz8e2c39RjbotnXzEN53ZWrVoVZO53rM1nz55l3hvDR4Yh3BiGcGMYIjlmcFxYuHBh5r09PT2Z933+/DnIsVQ2NoPLOm4H9TxVgzqMXyIiW7duDfKBAwcyn88xg6dH8uIjwxBuDEMkuyleUIm5kY8fPwZ5YmJC6TANZfeCb8usw9/xs9ltYDt8L+q4sODGjRtBZveW1ReRP//GvPjIMIQbwxBuDEMkxwz2y1i4xitdjx49CjKnfQsWLKjYRqVnZMFxoEghQywWjI6OBnnLli25f8ergnnxkWEIN4YhauamYsMWF3B4IQYXdLimKq+bKlKTyylyrN/Xrl0L8tmzZ5UOXSG3ial8EXxkGMKNYQg3hiGSYwbPvsb8O/rUx48fK11bW1uQuVgglVg73M9Yv4eHh4O8evVqpcP0FfeYiPy5CpoXHxmGcGMYItlNcSl/bLhj3dTz589zt4n8zfYA/C27MHYxCG574C0Qnz59CjLXiX39+jWlmz4yLOHGMIQbwxDJMaPINuHW1tYgX79+PfM+bgP9O+tSYwj3e/78+RWfJ6KL2GLtcF/evXuX1DcfGYZwYxgi2U1haieihzuDi0240MRweozDn91UrCCBic2wYjv8N8Vcbyxdfvv2bbQ/WfjIMIQbwxBuDEMkx4wPHz6oa/SvPGu5cuXKIC9fvjyzTS6My2qfr6vFDLw3lpJzsURHR0euNnkGOzXt9pFhCDeGIdwYhqjZewby7ds3dY3Tz0ePHs28l302+neOJzj1HZt6F9F7SWLHTnDB8qFDh6LtZuHTIf8AbgxDJLupIq/86GL27t2rdLiNjFfTsu4T0XW5eFpBJdAVcmEBujveXowpKrve2JY3rNEtgo8MQ7gxDOHGMERyzHj58mWmLrY3j1NLrKzgk2swJcWDikX0tuC7d+8qHceQzZs3Z/Z77dq1Qb58+bLSdXV1BTlWIM0UuRfxkWEIN4YhZiW1je2B4CGM2317e3sz28Sz1kVETp48GeRjx45F+4qri6dPn1Y6dGn3799Xupibwr8xddsY4yPDEG4MQ7gxDJEcM2IFzLGVLi4SfvXqVZBjsYYLyjBO8EGT69atU9e4j5D3h+CpaQ8ePFA6nALhlUac4nnx4oXUAh8ZhnBjGCLZTRVZQImdeYtDPLb9a9euXer66tWrQd6/f7/SxU5a4MMc8VMMPDOLh4Hxlmmc7UVX+zf4yDCEG8MQbgxDJMeMsbGxTB2nqFhoEIsZMfBTbCI61Txy5IjS8cGPAwMDQea0982bN0HGzxEV4enTp0m/Y3xkGMKNYYhkNxU7u5XdFKeaCLuYLLi299atW0Hes2dP9LcPHz4MMi40iYg0NzcH+cSJE5ltcNqN6fK9e/eiz8+LjwxDuDEM4cYwRHLMYLBmtcg2YSxCOH/+vNLhrC3v+di9e3eQOZXltBtnfF+/fq10+FueicbZYIwtIjqGDA4OSi3wkWEIN4Yh6iTx4+wMDn88q1ZEz4Zy2su1rwgevIhuUERvA+A3Z34+zrjGDrrk7dOxLWa4nXr9+vVK51sC/gHcGIZwYxiiZjHj+PHjQT537pzS4UpYtS1fCC76x+pXY9/EEPnzk0RZv+W+4TN570hfX1+QDx48mNl+EXxkGMKNYYiauSnkzJkz6hpdGJfr4w5T3m2KhQx8CgG6nmpfA8O3d06tMZ2NndU7NDSkdDt37pRa4yPDEG4MQ7gxDDErMYPB6Ynu7m6lO3z4cJD5xB08jYdnbYt8IRlXGjkuYfp6+/Ztpbt48WKQ+/v7cz8vFR8ZhnBjGOJ/cVN54bS3VCoFuVwuJ7fb3t4eZK6nffLkSXK7tcZHhiHcGIZwYxjiPwSCvktWudmyAAAAAElFTkSuQmCC\" y=\"-22.154489\"/>\n   </g>\n   <g id=\"matplotlib.axis_3\"/>\n   <g id=\"matplotlib.axis_4\"/>\n   <g id=\"patch_8\">\n    <path d=\"M 392.584862 121.154489 \nL 392.584862 22.318125 \n\" style=\"fill:none;stroke:#000000;stroke-linecap:square;stroke-linejoin:miter;stroke-width:0.8;\"/>\n   </g>\n   <g id=\"patch_9\">\n    <path d=\"M 491.421225 121.154489 \nL 491.421225 22.318125 \n\" style=\"fill:none;stroke:#000000;stroke-linecap:square;stroke-linejoin:miter;stroke-width:0.8;\"/>\n   </g>\n   <g id=\"patch_10\">\n    <path d=\"M 392.584862 121.154489 \nL 491.421225 121.154489 \n\" style=\"fill:none;stroke:#000000;stroke-linecap:square;stroke-linejoin:miter;stroke-width:0.8;\"/>\n   </g>\n   <g id=\"patch_11\">\n    <path d=\"M 392.584862 22.318125 \nL 491.421225 22.318125 \n\" style=\"fill:none;stroke:#000000;stroke-linecap:square;stroke-linejoin:miter;stroke-width:0.8;\"/>\n   </g>\n   <g id=\"text_2\">\n    <!-- Pullover (Pullover) -->\n    <g style=\"fill:#008000;\" transform=\"translate(387.354293 16.318125)scale(0.12 -0.12)\">\n     <defs>\n      <path d=\"M 19.671875 64.796875 \nL 19.671875 37.40625 \nL 32.078125 37.40625 \nQ 38.96875 37.40625 42.71875 40.96875 \nQ 46.484375 44.53125 46.484375 51.125 \nQ 46.484375 57.671875 42.71875 61.234375 \nQ 38.96875 64.796875 32.078125 64.796875 \nz\nM 9.8125 72.90625 \nL 32.078125 72.90625 \nQ 44.34375 72.90625 50.609375 67.359375 \nQ 56.890625 61.8125 56.890625 51.125 \nQ 56.890625 40.328125 50.609375 34.8125 \nQ 44.34375 29.296875 32.078125 29.296875 \nL 19.671875 29.296875 \nL 19.671875 0 \nL 9.8125 0 \nz\n\" id=\"DejaVuSans-80\"/>\n      <path d=\"M 8.5 21.578125 \nL 8.5 54.6875 \nL 17.484375 54.6875 \nL 17.484375 21.921875 \nQ 17.484375 14.15625 20.5 10.265625 \nQ 23.53125 6.390625 29.59375 6.390625 \nQ 36.859375 6.390625 41.078125 11.03125 \nQ 45.3125 15.671875 45.3125 23.6875 \nL 45.3125 54.6875 \nL 54.296875 54.6875 \nL 54.296875 0 \nL 45.3125 0 \nL 45.3125 8.40625 \nQ 42.046875 3.421875 37.71875 1 \nQ 33.40625 -1.421875 27.6875 -1.421875 \nQ 18.265625 -1.421875 13.375 4.4375 \nQ 8.5 10.296875 8.5 21.578125 \nz\nM 31.109375 56 \nz\n\" id=\"DejaVuSans-117\"/>\n      <path d=\"M 2.984375 54.6875 \nL 12.5 54.6875 \nL 29.59375 8.796875 \nL 46.6875 54.6875 \nL 56.203125 54.6875 \nL 35.6875 0 \nL 23.484375 0 \nz\n\" id=\"DejaVuSans-118\"/>\n      <path d=\"M 41.109375 46.296875 \nQ 39.59375 47.171875 37.8125 47.578125 \nQ 36.03125 48 33.890625 48 \nQ 26.265625 48 22.1875 43.046875 \nQ 18.109375 38.09375 18.109375 28.8125 \nL 18.109375 0 \nL 9.078125 0 \nL 9.078125 54.6875 \nL 18.109375 54.6875 \nL 18.109375 46.1875 \nQ 20.953125 51.171875 25.484375 53.578125 \nQ 30.03125 56 36.53125 56 \nQ 37.453125 56 38.578125 55.875 \nQ 39.703125 55.765625 41.0625 55.515625 \nz\n\" id=\"DejaVuSans-114\"/>\n     </defs>\n     <use xlink:href=\"#DejaVuSans-80\"/>\n     <use x=\"58.552734\" xlink:href=\"#DejaVuSans-117\"/>\n     <use x=\"121.931641\" xlink:href=\"#DejaVuSans-108\"/>\n     <use x=\"149.714844\" xlink:href=\"#DejaVuSans-108\"/>\n     <use x=\"177.498047\" xlink:href=\"#DejaVuSans-111\"/>\n     <use x=\"238.679688\" xlink:href=\"#DejaVuSans-118\"/>\n     <use x=\"297.859375\" xlink:href=\"#DejaVuSans-101\"/>\n     <use x=\"359.382812\" xlink:href=\"#DejaVuSans-114\"/>\n     <use x=\"400.496094\" xlink:href=\"#DejaVuSans-32\"/>\n     <use x=\"432.283203\" xlink:href=\"#DejaVuSans-40\"/>\n     <use x=\"471.296875\" xlink:href=\"#DejaVuSans-80\"/>\n     <use x=\"529.849609\" xlink:href=\"#DejaVuSans-117\"/>\n     <use x=\"593.228516\" xlink:href=\"#DejaVuSans-108\"/>\n     <use x=\"621.011719\" xlink:href=\"#DejaVuSans-108\"/>\n     <use x=\"648.794922\" xlink:href=\"#DejaVuSans-111\"/>\n     <use x=\"709.976562\" xlink:href=\"#DejaVuSans-118\"/>\n     <use x=\"769.15625\" xlink:href=\"#DejaVuSans-101\"/>\n     <use x=\"830.679688\" xlink:href=\"#DejaVuSans-114\"/>\n     <use x=\"871.792969\" xlink:href=\"#DejaVuSans-41\"/>\n    </g>\n   </g>\n  </g>\n  <g id=\"axes_3\">\n   <g id=\"patch_12\">\n    <path d=\"M 756.497905 121.154489 \nL 855.334269 121.154489 \nL 855.334269 22.318125 \nL 756.497905 22.318125 \nz\n\" style=\"fill:#ffffff;\"/>\n   </g>\n   <g clip-path=\"url(#pd3c202e66d)\">\n    <image height=\"99\" id=\"image66c0d42752\" transform=\"scale(1 -1)translate(0 -99)\" width=\"99\" x=\"756.497905\" xlink:href=\"data:image/png;base64,\niVBORw0KGgoAAAANSUhEUgAAAGMAAABjCAYAAACPO76VAAAE5klEQVR4nO2duy9+TRDH113cHyQucVdo0EkQEfJoRCFUFAqNSvw7/gWNnl5EFIJIiIhGELfC/c6vm8xMctZ5vZ6zU3w/1WxGdk/yNTO7e3bPk+Wc+3ZGmZ2dJXtwcFD4lpaWyF5dXfX2MzIyQvb8/Lzw3d/fk724uCh86+vr8R/2D8hOdDTgBWIYAmIYIjfpAbOyskT7+zu6ZM3NzZHd29srfFNTU2Sn02nh07l+ZmaG7PHxceH7/Pwke29vz9tPpkFkGAJiGCLxNJWTkyPaHx8fkX/b1NRE9s3NjfCdnp6S/VM64ano5eVF+J6fn8m+vr729pNpEBmGgBiGgBiGSLxmfH19RfpGR0dFO5VKkf3+/i582dnx/486OzvJfn19FT4+tT47O4vdZyZAZBgCYhgi8TTlW3Hr1TGf9ubmykddXl6OPSbvR+8A8HZhYWHsPjMBIsMQEMMQEMMQpmrGxMSEaL+9vZFdUFAgfGtra7HHLC4ujvU8FRUVsfvMBIgMQ0AMQySepnzo1TFPTTxlOefc8fFx7H7r6urI5ju4zjlXWVlJtm93IAkQGYaAGIaAGIYIXjOam5vJLisrE77Hx0eydT35LzUjLy+PbN/UWteTpEFkGAJiGCJ4murv7ydb75ry1FRVVfXrMUpLS8m+vb2N/DukKUBADENADEMErxn83oXO2XxKurW19esx+ME5X13QB+ySBpFhCIhhiOBpqqenh2y9M8t3bXd2dv5kPL2SjxovBIgMQ0AMQ0AMQwSvGTU1NWTrN218Gnp4eBi7z/z8/Eifb/r69PQUe4xMgMgwBMQwRPA01dDQQPb5+bnw8XRTX18fu099LpfjW4H7zlclASLDEBDDEBDDEMFrBseXz1tbW2P3093dLdp8m0VfR+OgZgACYhgCYhjCVM3gb/ack9vd/PrwT4yNjYk2X3eEPtzsA5FhCIhhCFNpSl8L5tPQ9vb22P3wLRbnZGrSY1gCkWEIiGEIiGEIUzVDw2uG3hbnJzn0iY+WlhbR5tssvvsZ5eXlv3nMPwORYQiIYYjgaYofAtAf9PJ9THJ4eJjslZUV4evr6xNt/sbQtzP8f+6A/AWIDENADENADEMErxmXl5dk66mlb+tienqabF0z9AFm/oFi3wE3HGIDBMQwRPA0xa8C66kln+o+PDwI39DQUOwx+HTWd9ZW3w9JGkSGISCGISCGIYLXjP39fbI7OjqEz1cz+NfVNjY2hE/v4vI3ffpAAt9y4V9lCwEiwxAQwxDB09Tm5ibZk5OTwsdXxDqF8LTV1dUlfFdXV5Hj6VU9H6OxsTHGE2cORIYhIIYhIIYhgteM3d1dsvWOKv8ymz5IwKevetrr2+319YP7GYCAGIYInqb0j9ty+BUBff2Ln6P66Vcx+UpeH0jgL6LwC5aAgBiGgBiGCF4zLi4uIn28ZvgOtP30cWBeM/S0l39/nR+OCAEiwxAQwxDB0xRHr6R5erm7uxO+oqIisvUtWf6D687JVbZvdX5ychL/YTMAIsMQEMMQEMMQidcMfQeDHxDY3t4WvoGBAbJ9hwV0PamurhZtvnXiO097cHAQ6UsCRIYhIIYhspxz0dc/MzGgmlrylz3pdFr4FhYWyNYprLa2luyjoyPhKykpEe1UKkW23v1ta2sjW//Qb9IgMgwBMQwBMQzxDxbvdjc3QIfNAAAAAElFTkSuQmCC\" y=\"-22.154489\"/>\n   </g>\n   <g id=\"matplotlib.axis_5\"/>\n   <g id=\"matplotlib.axis_6\"/>\n   <g id=\"patch_13\">\n    <path d=\"M 756.497905 121.154489 \nL 756.497905 22.318125 \n\" style=\"fill:none;stroke:#000000;stroke-linecap:square;stroke-linejoin:miter;stroke-width:0.8;\"/>\n   </g>\n   <g id=\"patch_14\">\n    <path d=\"M 855.334269 121.154489 \nL 855.334269 22.318125 \n\" style=\"fill:none;stroke:#000000;stroke-linecap:square;stroke-linejoin:miter;stroke-width:0.8;\"/>\n   </g>\n   <g id=\"patch_15\">\n    <path d=\"M 756.497905 121.154489 \nL 855.334269 121.154489 \n\" style=\"fill:none;stroke:#000000;stroke-linecap:square;stroke-linejoin:miter;stroke-width:0.8;\"/>\n   </g>\n   <g id=\"patch_16\">\n    <path d=\"M 756.497905 22.318125 \nL 855.334269 22.318125 \n\" style=\"fill:none;stroke:#000000;stroke-linecap:square;stroke-linejoin:miter;stroke-width:0.8;\"/>\n   </g>\n   <g id=\"text_3\">\n    <!-- Trouser (Trouser) -->\n    <g style=\"fill:#008000;\" transform=\"translate(755.589212 16.318125)scale(0.12 -0.12)\">\n     <defs>\n      <path d=\"M -0.296875 72.90625 \nL 61.375 72.90625 \nL 61.375 64.59375 \nL 35.5 64.59375 \nL 35.5 0 \nL 25.59375 0 \nL 25.59375 64.59375 \nL -0.296875 64.59375 \nz\n\" id=\"DejaVuSans-84\"/>\n      <path d=\"M 44.28125 53.078125 \nL 44.28125 44.578125 \nQ 40.484375 46.53125 36.375 47.5 \nQ 32.28125 48.484375 27.875 48.484375 \nQ 21.1875 48.484375 17.84375 46.4375 \nQ 14.5 44.390625 14.5 40.28125 \nQ 14.5 37.15625 16.890625 35.375 \nQ 19.28125 33.59375 26.515625 31.984375 \nL 29.59375 31.296875 \nQ 39.15625 29.25 43.1875 25.515625 \nQ 47.21875 21.78125 47.21875 15.09375 \nQ 47.21875 7.46875 41.1875 3.015625 \nQ 35.15625 -1.421875 24.609375 -1.421875 \nQ 20.21875 -1.421875 15.453125 -0.5625 \nQ 10.6875 0.296875 5.421875 2 \nL 5.421875 11.28125 \nQ 10.40625 8.6875 15.234375 7.390625 \nQ 20.0625 6.109375 24.8125 6.109375 \nQ 31.15625 6.109375 34.5625 8.28125 \nQ 37.984375 10.453125 37.984375 14.40625 \nQ 37.984375 18.0625 35.515625 20.015625 \nQ 33.0625 21.96875 24.703125 23.78125 \nL 21.578125 24.515625 \nQ 13.234375 26.265625 9.515625 29.90625 \nQ 5.8125 33.546875 5.8125 39.890625 \nQ 5.8125 47.609375 11.28125 51.796875 \nQ 16.75 56 26.8125 56 \nQ 31.78125 56 36.171875 55.265625 \nQ 40.578125 54.546875 44.28125 53.078125 \nz\n\" id=\"DejaVuSans-115\"/>\n     </defs>\n     <use xlink:href=\"#DejaVuSans-84\"/>\n     <use x=\"46.333984\" xlink:href=\"#DejaVuSans-114\"/>\n     <use x=\"85.197266\" xlink:href=\"#DejaVuSans-111\"/>\n     <use x=\"146.378906\" xlink:href=\"#DejaVuSans-117\"/>\n     <use x=\"209.757812\" xlink:href=\"#DejaVuSans-115\"/>\n     <use x=\"261.857422\" xlink:href=\"#DejaVuSans-101\"/>\n     <use x=\"323.380859\" xlink:href=\"#DejaVuSans-114\"/>\n     <use x=\"364.494141\" xlink:href=\"#DejaVuSans-32\"/>\n     <use x=\"396.28125\" xlink:href=\"#DejaVuSans-40\"/>\n     <use x=\"435.294922\" xlink:href=\"#DejaVuSans-84\"/>\n     <use x=\"481.628906\" xlink:href=\"#DejaVuSans-114\"/>\n     <use x=\"520.492188\" xlink:href=\"#DejaVuSans-111\"/>\n     <use x=\"581.673828\" xlink:href=\"#DejaVuSans-117\"/>\n     <use x=\"645.052734\" xlink:href=\"#DejaVuSans-115\"/>\n     <use x=\"697.152344\" xlink:href=\"#DejaVuSans-101\"/>\n     <use x=\"758.675781\" xlink:href=\"#DejaVuSans-114\"/>\n     <use x=\"799.789062\" xlink:href=\"#DejaVuSans-41\"/>\n    </g>\n   </g>\n  </g>\n  <g id=\"axes_4\">\n   <g id=\"patch_17\">\n    <path d=\"M 1120.410949 121.154489 \nL 1219.247312 121.154489 \nL 1219.247312 22.318125 \nL 1120.410949 22.318125 \nz\n\" style=\"fill:#ffffff;\"/>\n   </g>\n   <g clip-path=\"url(#pe2bc22ee0a)\">\n    <image height=\"99\" id=\"imagec84ecb003c\" transform=\"scale(1 -1)translate(0 -99)\" width=\"99\" x=\"1120.410949\" xlink:href=\"data:image/png;base64,\niVBORw0KGgoAAAANSUhEUgAAAGMAAABjCAYAAACPO76VAAAE70lEQVR4nO2dyS5tURCG6+j76JsgRJMgCAZGJKa8jHgRAzHiFcxNDJhhaGpiIIhE3/d3tvJXcfY9B/uuP7n1jWqlztln5/63ai21a62dEZEPIaGxsVGNV1ZWgr2+vq58q6urOV93aWkpq29+fj7YHx9x/ykKov66o3AxiHAxiMgI0ZyxsLCgxouLi8He2tpSvpmZmZyve3BwEOzW1lblm5ycDPbe3l7O10wDjwwiXAwiimLfAFJWVqbGj4+PwS4sLPz2dR8eHoJ9d3enfO3t7cH2NOUEXAwiXAwiqOaMubk5NX56egp2QUHu/2+qq6vVuKamJut1uru787jDdPHIIMLFIIIqTbW0tKjx8/NzsIuKcr/Vuro6NcZl8evrq/I1Nzfnc4up4pFBhItBhItBBNWccXJyosa4RH1/f8/5OlVVVWqMy1l7nfLy8nxuMVU8MohwMYigSlM2ZWDV1lZ0kygpKVFjbDSwaaq4uDifW0wVjwwiXAwiXAwiqOYMm+tfXl6CnU85xH4WyyFYCRb53KAQE48MIlwMIqKnqUwmE2ys0v4ETG8iulJ7dXWV1RcbjwwiXAwiXAwios8ZWKp4e3tTvv39/WDPzs4qH5ZHsGwi8nlpi/PEzs6O8sVuXEM8MohwMYiInqYQ2/a/vb0dbLvFa2pqKtgbGxvKNzw8rMbn5+fBXl5eVr6f9PD+Nh4ZRLgYRLgYRFDNGWdnZ2pcW1sbbLsEHRgYCLadMyYmJtT46Ogo2B0dHcpnmyBi4pFBhItBBFWastXWi4uLYNuHQLbtHxkaGlJjTH/X19fKd3t7m/d9poVHBhEuBhEuBhHR5wwsR9geWWw4s0/k2trasl6zv79fjQ8PD4Ntnybaim9MPDKIcDGIcDGIiD5nVFRUfGmLiFRWVgbbNixjWdyC3xPRjWu2gbqhoSHYePpODDwyiHAxiIiepnCJmtTEdn9/r8ZJvbd2GYxpC09LEBG5vLzM5Tb/CR4ZRLgYRLgYRESfM/BgYWyCFtHLWTufJO3xs2UV7Cyx30s6iS2f7c6/gUcGES4GEdHTFJ5eYLcBY9qyKcymIsRuYcYUl/TXuW1o8zT1H+NiEOFiEBF9zsBKrT3MEecFm+vRNzY2lvgbeMiwXdqWlpYG285ZtlslbTwyiHAxiIiepjD92Mospi3slxUR6evrC/b4+Ljy2WUwpimbenDrWuwTdjwyiHAxiHAxiIg+Z+A8YZevuHfCnoaD2Cd79rNY1rBLW3xiGLuhzSODCBeDiOhpanBwMNh2Gxk++LHgHozp6Wnls0vUzs7OYNvKLKY4W+1NSo1p4JFBhItBhItBRPQ5A0sXdltwb2/vl58T0fOAXa7a7cTYKIdzlIhezv7WSXDfxSODCBeDiOhpCiuzo6OjytfT0xNsuwUAe6Fwi7K9pog+aaG+vj7rb+Rzdm4aeGQQ4WIQ4WIQEX3O6OrqCrbN9Ti2PmxksM1mdomKR13Y/Rj4XTypR0Rkd3c36dZ/HY8MIlwMIqKnKazUNjU1KR+mFJt6bm5usl7TpiLcdmC/h+lvZGRE+TxN/ce4GES4GEREnzNOT0+DbV+UjiWQ4+Nj5cNKLJ6aI/L5iSG+2di+Sgib47xq6wRcDCKip6m1tbVg24oqvmoB+2Ut9tU99tx0bEKwaQrT5Obm5t9vOEU8MohwMYhwMYj4AyHmcOXA22d0AAAAAElFTkSuQmCC\" y=\"-22.154489\"/>\n   </g>\n   <g id=\"matplotlib.axis_7\"/>\n   <g id=\"matplotlib.axis_8\"/>\n   <g id=\"patch_18\">\n    <path d=\"M 1120.410949 121.154489 \nL 1120.410949 22.318125 \n\" style=\"fill:none;stroke:#000000;stroke-linecap:square;stroke-linejoin:miter;stroke-width:0.8;\"/>\n   </g>\n   <g id=\"patch_19\">\n    <path d=\"M 1219.247312 121.154489 \nL 1219.247312 22.318125 \n\" style=\"fill:none;stroke:#000000;stroke-linecap:square;stroke-linejoin:miter;stroke-width:0.8;\"/>\n   </g>\n   <g id=\"patch_20\">\n    <path d=\"M 1120.410949 121.154489 \nL 1219.247312 121.154489 \n\" style=\"fill:none;stroke:#000000;stroke-linecap:square;stroke-linejoin:miter;stroke-width:0.8;\"/>\n   </g>\n   <g id=\"patch_21\">\n    <path d=\"M 1120.410949 22.318125 \nL 1219.247312 22.318125 \n\" style=\"fill:none;stroke:#000000;stroke-linecap:square;stroke-linejoin:miter;stroke-width:0.8;\"/>\n   </g>\n   <g id=\"text_4\">\n    <!-- Trouser (Trouser) -->\n    <g style=\"fill:#008000;\" transform=\"translate(1119.502255 16.318125)scale(0.12 -0.12)\">\n     <use xlink:href=\"#DejaVuSans-84\"/>\n     <use x=\"46.333984\" xlink:href=\"#DejaVuSans-114\"/>\n     <use x=\"85.197266\" xlink:href=\"#DejaVuSans-111\"/>\n     <use x=\"146.378906\" xlink:href=\"#DejaVuSans-117\"/>\n     <use x=\"209.757812\" xlink:href=\"#DejaVuSans-115\"/>\n     <use x=\"261.857422\" xlink:href=\"#DejaVuSans-101\"/>\n     <use x=\"323.380859\" xlink:href=\"#DejaVuSans-114\"/>\n     <use x=\"364.494141\" xlink:href=\"#DejaVuSans-32\"/>\n     <use x=\"396.28125\" xlink:href=\"#DejaVuSans-40\"/>\n     <use x=\"435.294922\" xlink:href=\"#DejaVuSans-84\"/>\n     <use x=\"481.628906\" xlink:href=\"#DejaVuSans-114\"/>\n     <use x=\"520.492188\" xlink:href=\"#DejaVuSans-111\"/>\n     <use x=\"581.673828\" xlink:href=\"#DejaVuSans-117\"/>\n     <use x=\"645.052734\" xlink:href=\"#DejaVuSans-115\"/>\n     <use x=\"697.152344\" xlink:href=\"#DejaVuSans-101\"/>\n     <use x=\"758.675781\" xlink:href=\"#DejaVuSans-114\"/>\n     <use x=\"799.789062\" xlink:href=\"#DejaVuSans-41\"/>\n    </g>\n   </g>\n  </g>\n  <g id=\"axes_5\">\n   <g id=\"patch_22\">\n    <path d=\"M 28.671818 239.758125 \nL 127.508182 239.758125 \nL 127.508182 140.921761 \nL 28.671818 140.921761 \nz\n\" style=\"fill:#ffffff;\"/>\n   </g>\n   <g clip-path=\"url(#pcccb840cdf)\">\n    <image height=\"99\" id=\"image86132171cc\" transform=\"scale(1 -1)translate(0 -99)\" width=\"99\" x=\"28.671818\" xlink:href=\"data:image/png;base64,\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\" y=\"-140.758125\"/>\n   </g>\n   <g id=\"matplotlib.axis_9\"/>\n   <g id=\"matplotlib.axis_10\"/>\n   <g id=\"patch_23\">\n    <path d=\"M 28.671818 239.758125 \nL 28.671818 140.921761 \n\" style=\"fill:none;stroke:#000000;stroke-linecap:square;stroke-linejoin:miter;stroke-width:0.8;\"/>\n   </g>\n   <g id=\"patch_24\">\n    <path d=\"M 127.508182 239.758125 \nL 127.508182 140.921761 \n\" style=\"fill:none;stroke:#000000;stroke-linecap:square;stroke-linejoin:miter;stroke-width:0.8;\"/>\n   </g>\n   <g id=\"patch_25\">\n    <path d=\"M 28.671818 239.758125 \nL 127.508182 239.758125 \n\" style=\"fill:none;stroke:#000000;stroke-linecap:square;stroke-linejoin:miter;stroke-width:0.8;\"/>\n   </g>\n   <g id=\"patch_26\">\n    <path d=\"M 28.671818 140.921761 \nL 127.508182 140.921761 \n\" style=\"fill:none;stroke:#000000;stroke-linecap:square;stroke-linejoin:miter;stroke-width:0.8;\"/>\n   </g>\n   <g id=\"text_5\">\n    <!-- Shirt (Shirt) -->\n    <g style=\"fill:#008000;\" transform=\"translate(43.306875 134.921761)scale(0.12 -0.12)\">\n     <defs>\n      <path d=\"M 53.515625 70.515625 \nL 53.515625 60.890625 \nQ 47.90625 63.578125 42.921875 64.890625 \nQ 37.9375 66.21875 33.296875 66.21875 \nQ 25.25 66.21875 20.875 63.09375 \nQ 16.5 59.96875 16.5 54.203125 \nQ 16.5 49.359375 19.40625 46.890625 \nQ 22.3125 44.4375 30.421875 42.921875 \nL 36.375 41.703125 \nQ 47.40625 39.59375 52.65625 34.296875 \nQ 57.90625 29 57.90625 20.125 \nQ 57.90625 9.515625 50.796875 4.046875 \nQ 43.703125 -1.421875 29.984375 -1.421875 \nQ 24.8125 -1.421875 18.96875 -0.25 \nQ 13.140625 0.921875 6.890625 3.21875 \nL 6.890625 13.375 \nQ 12.890625 10.015625 18.65625 8.296875 \nQ 24.421875 6.59375 29.984375 6.59375 \nQ 38.421875 6.59375 43.015625 9.90625 \nQ 47.609375 13.234375 47.609375 19.390625 \nQ 47.609375 24.75 44.3125 27.78125 \nQ 41.015625 30.8125 33.5 32.328125 \nL 27.484375 33.5 \nQ 16.453125 35.6875 11.515625 40.375 \nQ 6.59375 45.0625 6.59375 53.421875 \nQ 6.59375 63.09375 13.40625 68.65625 \nQ 20.21875 74.21875 32.171875 74.21875 \nQ 37.3125 74.21875 42.625 73.28125 \nQ 47.953125 72.359375 53.515625 70.515625 \nz\n\" id=\"DejaVuSans-83\"/>\n      <path d=\"M 54.890625 33.015625 \nL 54.890625 0 \nL 45.90625 0 \nL 45.90625 32.71875 \nQ 45.90625 40.484375 42.875 44.328125 \nQ 39.84375 48.1875 33.796875 48.1875 \nQ 26.515625 48.1875 22.3125 43.546875 \nQ 18.109375 38.921875 18.109375 30.90625 \nL 18.109375 0 \nL 9.078125 0 \nL 9.078125 75.984375 \nL 18.109375 75.984375 \nL 18.109375 46.1875 \nQ 21.34375 51.125 25.703125 53.5625 \nQ 30.078125 56 35.796875 56 \nQ 45.21875 56 50.046875 50.171875 \nQ 54.890625 44.34375 54.890625 33.015625 \nz\n\" id=\"DejaVuSans-104\"/>\n      <path d=\"M 9.421875 54.6875 \nL 18.40625 54.6875 \nL 18.40625 0 \nL 9.421875 0 \nz\nM 9.421875 75.984375 \nL 18.40625 75.984375 \nL 18.40625 64.59375 \nL 9.421875 64.59375 \nz\n\" id=\"DejaVuSans-105\"/>\n     </defs>\n     <use xlink:href=\"#DejaVuSans-83\"/>\n     <use x=\"63.476562\" xlink:href=\"#DejaVuSans-104\"/>\n     <use x=\"126.855469\" xlink:href=\"#DejaVuSans-105\"/>\n     <use x=\"154.638672\" xlink:href=\"#DejaVuSans-114\"/>\n     <use x=\"195.751953\" xlink:href=\"#DejaVuSans-116\"/>\n     <use x=\"234.960938\" xlink:href=\"#DejaVuSans-32\"/>\n     <use x=\"266.748047\" xlink:href=\"#DejaVuSans-40\"/>\n     <use x=\"305.761719\" xlink:href=\"#DejaVuSans-83\"/>\n     <use x=\"369.238281\" xlink:href=\"#DejaVuSans-104\"/>\n     <use x=\"432.617188\" xlink:href=\"#DejaVuSans-105\"/>\n     <use x=\"460.400391\" xlink:href=\"#DejaVuSans-114\"/>\n     <use x=\"501.513672\" xlink:href=\"#DejaVuSans-116\"/>\n     <use x=\"540.722656\" xlink:href=\"#DejaVuSans-41\"/>\n    </g>\n   </g>\n  </g>\n  <g id=\"axes_6\">\n   <g id=\"patch_27\">\n    <path d=\"M 392.584862 239.758125 \nL 491.421225 239.758125 \nL 491.421225 140.921761 \nL 392.584862 140.921761 \nz\n\" style=\"fill:#ffffff;\"/>\n   </g>\n   <g clip-path=\"url(#pbf08c370ec)\">\n    <image height=\"99\" id=\"image9dda229110\" transform=\"scale(1 -1)translate(0 -99)\" width=\"99\" x=\"392.584862\" xlink:href=\"data:image/png;base64,\niVBORw0KGgoAAAANSUhEUgAAAGMAAABjCAYAAACPO76VAAAFoUlEQVR4nO2dOUs0TRDHe71FvG+8FRQUDMRANDESUVRM9AOYipj7MYyN/ASGKhoYGIgogoqCx3rgBeJ9X0/Wb9X/eWZ2mdeZLdj6RdWUTi8UXVVTXd0TMsb8GKHU19dbeWRkhOne39+tPDMzw3Srq6uOzxwcHGTjzs5OK9/e3jLdwsKClZeWliL+3v9Lgu8zKFGjxhCEGkMQSbH+AW5MTExYua+vj+k+Pz+tfHd3x3RuMWN4eJiN+/v7rfzy8sJ0ZWVlVtaYEWeoMQQRuJsKhUJs/PPjnFlXVlZaORwOM11mZqaV5+fno57/4eGBjalrur+/Z7rLy8uon/sb6MoQhBpDEGoMQQQeMxISuP2/vr6s3NHRwXQ0tcS08+LiwsobGxtRz5+VlcXGz8/PjnPk5uZG/dzfQFeGINQYggjcTX1/fzvqenp62JimvWlpaUy3vb3taf7s7Gw2ptXfvLw8pru+vvY0h1d0ZQhCjSEINYYgAo8ZbuWPrq4uNqZpb3p6OtPh7l60ZGRksDGNYRjP3H6rH+jKEIQaQxAx31yib9k5OTlMRzeNEhMTmW5lZcXTfKmpqWxMN6lommuMMW9vb57m8IquDEGoMQShxhBEzGPG6OiolVNSUpiOVnixwezg4MDTfHSHEKGptDFatY1r1BiCiLmbohtKNzc3TEfTUHxz9kpVVRUbr6+vWxndpFuF2Q90ZQhCjSEINYYgYh4zHh8frZycnMx0NA1dXl7+lfleX1/ZeG1tzcrV1dVMhw0KfqMrQxBqDEEE7qaw+kpdE62gGmNMUtJ/P296etrxmfTv/vWcgoICK2P/7NHR0T//zpi/myD8RleGINQYglBjCCLwmDE0NMTGtDKL8YSel1hcXHR8ZqTGgYaGBiuXl5c7zo/lDzyv4Te6MgShxhBE4G6qubmZjWlLPh4XaGlpsXJJSQnTnZ6eOv4fbhL19vZa+fDwkOmenp6sjGkvpsh+oytDEGoMQagxBBF4zMDdNFpFRR9NU83GxkamozEDYwTS1NRkZWxUo8fKMLXWhoQ4Ro0hCDWGIAKPGdhERmMI+v79/X0r4w1qc3NzVo7UxVFTU2Nl3OmjZfPa2lqmm52ddX3ub6MrQxBqDEEE7qbweC89HkabE3Dc3d3teU5aSjk+Pma6wsJCK+NOX6SU+bfRlSEINYYg1BiCCDxmYKMabWim5WxjeHkdS+g0DY10ViM/P9/KtBvEGPeSB6bBfqMrQxBqDEEE7qZwk7+iosLKeJkkreJ+fHww3fj4uJXHxsaYrrW1lY3dmg5oAxxWlLGK6ze6MgShxhCEGkMQgceMvb09Nm5vb7cy7sLRCu/Z2RnTDQwMWBljBn5rgza5uZU4sIFaY0Yco8YQROBuamdnh43d3sCLi4utjDck0JQYaWtrY2N6HAwb3ujNOZhaY6rrN7oyBKHGEIQaQxCBx4zd3V3+A0g66XYlBfrz8/NzK+P3M7DCS290wzhAq8iYyuKtbX6jK0MQagxBBO6m8AyEm2uib854ry1NV7FKi5tCNGXGSyBpFRffwPXocRyjxhCEGkMQgccMmpIaw3fzioqKmI6ms26lipOTE0cdgjuGdH6MEZraxjFqDEHE/PIv+kZeV1fHdFtbW1ZG9+L25k77rYzh6Sv2bdHP/mBFFze0/EZXhiDUGIJQYwgi5jFjamrKypOTk0x3dXVlZayo0phBjyEb87fvp9/lwPSVxiIs1Xj9RodXdGUIQo0hiJAxJthPbgH0rXtzc5Pp6N3o2FNF37LxDnV0afQWBOz1pR/sxXts8aIyv9GVIQg1hiDUGIKIeWpLd+XczmdgukpjRmlpqeMzjeH9tTgHvf+cptKxQFeGINQYgoi5m6KpJq3SGsPdFDYS0DfpcDjsqDOG9+ziLQw0DUZXGDS6MgShxhCEGkMQfwArbcxBLNaA5QAAAABJRU5ErkJggg==\" y=\"-140.758125\"/>\n   </g>\n   <g id=\"matplotlib.axis_11\"/>\n   <g id=\"matplotlib.axis_12\"/>\n   <g id=\"patch_28\">\n    <path d=\"M 392.584862 239.758125 \nL 392.584862 140.921761 \n\" style=\"fill:none;stroke:#000000;stroke-linecap:square;stroke-linejoin:miter;stroke-width:0.8;\"/>\n   </g>\n   <g id=\"patch_29\">\n    <path d=\"M 491.421225 239.758125 \nL 491.421225 140.921761 \n\" style=\"fill:none;stroke:#000000;stroke-linecap:square;stroke-linejoin:miter;stroke-width:0.8;\"/>\n   </g>\n   <g id=\"patch_30\">\n    <path d=\"M 392.584862 239.758125 \nL 491.421225 239.758125 \n\" style=\"fill:none;stroke:#000000;stroke-linecap:square;stroke-linejoin:miter;stroke-width:0.8;\"/>\n   </g>\n   <g id=\"patch_31\">\n    <path d=\"M 392.584862 140.921761 \nL 491.421225 140.921761 \n\" style=\"fill:none;stroke:#000000;stroke-linecap:square;stroke-linejoin:miter;stroke-width:0.8;\"/>\n   </g>\n   <g id=\"text_6\">\n    <!-- Trouser (Trouser) -->\n    <g style=\"fill:#008000;\" transform=\"translate(391.676168 134.921761)scale(0.12 -0.12)\">\n     <use xlink:href=\"#DejaVuSans-84\"/>\n     <use x=\"46.333984\" xlink:href=\"#DejaVuSans-114\"/>\n     <use x=\"85.197266\" xlink:href=\"#DejaVuSans-111\"/>\n     <use x=\"146.378906\" xlink:href=\"#DejaVuSans-117\"/>\n     <use x=\"209.757812\" xlink:href=\"#DejaVuSans-115\"/>\n     <use x=\"261.857422\" xlink:href=\"#DejaVuSans-101\"/>\n     <use x=\"323.380859\" xlink:href=\"#DejaVuSans-114\"/>\n     <use x=\"364.494141\" xlink:href=\"#DejaVuSans-32\"/>\n     <use x=\"396.28125\" xlink:href=\"#DejaVuSans-40\"/>\n     <use x=\"435.294922\" xlink:href=\"#DejaVuSans-84\"/>\n     <use x=\"481.628906\" xlink:href=\"#DejaVuSans-114\"/>\n     <use x=\"520.492188\" xlink:href=\"#DejaVuSans-111\"/>\n     <use x=\"581.673828\" xlink:href=\"#DejaVuSans-117\"/>\n     <use x=\"645.052734\" xlink:href=\"#DejaVuSans-115\"/>\n     <use x=\"697.152344\" xlink:href=\"#DejaVuSans-101\"/>\n     <use x=\"758.675781\" xlink:href=\"#DejaVuSans-114\"/>\n     <use x=\"799.789062\" xlink:href=\"#DejaVuSans-41\"/>\n    </g>\n   </g>\n  </g>\n  <g id=\"axes_7\">\n   <g id=\"patch_32\">\n    <path d=\"M 756.497905 239.758125 \nL 855.334269 239.758125 \nL 855.334269 140.921761 \nL 756.497905 140.921761 \nz\n\" style=\"fill:#ffffff;\"/>\n   </g>\n   <g clip-path=\"url(#p10a855c3e2)\">\n    <image height=\"99\" id=\"imageb5916e321a\" transform=\"scale(1 -1)translate(0 -99)\" width=\"99\" x=\"756.497905\" xlink:href=\"data:image/png;base64,\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\" y=\"-140.758125\"/>\n   </g>\n   <g id=\"matplotlib.axis_13\"/>\n   <g id=\"matplotlib.axis_14\"/>\n   <g id=\"patch_33\">\n    <path d=\"M 756.497905 239.758125 \nL 756.497905 140.921761 \n\" style=\"fill:none;stroke:#000000;stroke-linecap:square;stroke-linejoin:miter;stroke-width:0.8;\"/>\n   </g>\n   <g id=\"patch_34\">\n    <path d=\"M 855.334269 239.758125 \nL 855.334269 140.921761 \n\" style=\"fill:none;stroke:#000000;stroke-linecap:square;stroke-linejoin:miter;stroke-width:0.8;\"/>\n   </g>\n   <g id=\"patch_35\">\n    <path d=\"M 756.497905 239.758125 \nL 855.334269 239.758125 \n\" style=\"fill:none;stroke:#000000;stroke-linecap:square;stroke-linejoin:miter;stroke-width:0.8;\"/>\n   </g>\n   <g id=\"patch_36\">\n    <path d=\"M 756.497905 140.921761 \nL 855.334269 140.921761 \n\" style=\"fill:none;stroke:#000000;stroke-linecap:square;stroke-linejoin:miter;stroke-width:0.8;\"/>\n   </g>\n   <g id=\"text_7\">\n    <!-- Coat (Coat) -->\n    <g style=\"fill:#008000;\" transform=\"translate(771.547337 134.921761)scale(0.12 -0.12)\">\n     <defs>\n      <path d=\"M 64.40625 67.28125 \nL 64.40625 56.890625 \nQ 59.421875 61.53125 53.78125 63.8125 \nQ 48.140625 66.109375 41.796875 66.109375 \nQ 29.296875 66.109375 22.65625 58.46875 \nQ 16.015625 50.828125 16.015625 36.375 \nQ 16.015625 21.96875 22.65625 14.328125 \nQ 29.296875 6.6875 41.796875 6.6875 \nQ 48.140625 6.6875 53.78125 8.984375 \nQ 59.421875 11.28125 64.40625 15.921875 \nL 64.40625 5.609375 \nQ 59.234375 2.09375 53.4375 0.328125 \nQ 47.65625 -1.421875 41.21875 -1.421875 \nQ 24.65625 -1.421875 15.125 8.703125 \nQ 5.609375 18.84375 5.609375 36.375 \nQ 5.609375 53.953125 15.125 64.078125 \nQ 24.65625 74.21875 41.21875 74.21875 \nQ 47.75 74.21875 53.53125 72.484375 \nQ 59.328125 70.75 64.40625 67.28125 \nz\n\" id=\"DejaVuSans-67\"/>\n      <path d=\"M 34.28125 27.484375 \nQ 23.390625 27.484375 19.1875 25 \nQ 14.984375 22.515625 14.984375 16.5 \nQ 14.984375 11.71875 18.140625 8.90625 \nQ 21.296875 6.109375 26.703125 6.109375 \nQ 34.1875 6.109375 38.703125 11.40625 \nQ 43.21875 16.703125 43.21875 25.484375 \nL 43.21875 27.484375 \nz\nM 52.203125 31.203125 \nL 52.203125 0 \nL 43.21875 0 \nL 43.21875 8.296875 \nQ 40.140625 3.328125 35.546875 0.953125 \nQ 30.953125 -1.421875 24.3125 -1.421875 \nQ 15.921875 -1.421875 10.953125 3.296875 \nQ 6 8.015625 6 15.921875 \nQ 6 25.140625 12.171875 29.828125 \nQ 18.359375 34.515625 30.609375 34.515625 \nL 43.21875 34.515625 \nL 43.21875 35.40625 \nQ 43.21875 41.609375 39.140625 45 \nQ 35.0625 48.390625 27.6875 48.390625 \nQ 23 48.390625 18.546875 47.265625 \nQ 14.109375 46.140625 10.015625 43.890625 \nL 10.015625 52.203125 \nQ 14.9375 54.109375 19.578125 55.046875 \nQ 24.21875 56 28.609375 56 \nQ 40.484375 56 46.34375 49.84375 \nQ 52.203125 43.703125 52.203125 31.203125 \nz\n\" id=\"DejaVuSans-97\"/>\n     </defs>\n     <use xlink:href=\"#DejaVuSans-67\"/>\n     <use x=\"69.824219\" xlink:href=\"#DejaVuSans-111\"/>\n     <use x=\"131.005859\" xlink:href=\"#DejaVuSans-97\"/>\n     <use x=\"192.285156\" xlink:href=\"#DejaVuSans-116\"/>\n     <use x=\"231.494141\" xlink:href=\"#DejaVuSans-32\"/>\n     <use x=\"263.28125\" xlink:href=\"#DejaVuSans-40\"/>\n     <use x=\"302.294922\" xlink:href=\"#DejaVuSans-67\"/>\n     <use x=\"372.119141\" xlink:href=\"#DejaVuSans-111\"/>\n     <use x=\"433.300781\" xlink:href=\"#DejaVuSans-97\"/>\n     <use x=\"494.580078\" xlink:href=\"#DejaVuSans-116\"/>\n     <use x=\"533.789062\" xlink:href=\"#DejaVuSans-41\"/>\n    </g>\n   </g>\n  </g>\n  <g id=\"axes_8\">\n   <g id=\"patch_37\">\n    <path d=\"M 1120.410949 239.758125 \nL 1219.247312 239.758125 \nL 1219.247312 140.921761 \nL 1120.410949 140.921761 \nz\n\" style=\"fill:#ffffff;\"/>\n   </g>\n   <g clip-path=\"url(#pe61ca21367)\">\n    <image height=\"99\" id=\"image5dfebf7241\" transform=\"scale(1 -1)translate(0 -99)\" width=\"99\" x=\"1120.410949\" xlink:href=\"data:image/png;base64,\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\" y=\"-140.758125\"/>\n   </g>\n   <g id=\"matplotlib.axis_15\"/>\n   <g id=\"matplotlib.axis_16\"/>\n   <g id=\"patch_38\">\n    <path d=\"M 1120.410949 239.758125 \nL 1120.410949 140.921761 \n\" style=\"fill:none;stroke:#000000;stroke-linecap:square;stroke-linejoin:miter;stroke-width:0.8;\"/>\n   </g>\n   <g id=\"patch_39\">\n    <path d=\"M 1219.247312 239.758125 \nL 1219.247312 140.921761 \n\" style=\"fill:none;stroke:#000000;stroke-linecap:square;stroke-linejoin:miter;stroke-width:0.8;\"/>\n   </g>\n   <g id=\"patch_40\">\n    <path d=\"M 1120.410949 239.758125 \nL 1219.247312 239.758125 \n\" style=\"fill:none;stroke:#000000;stroke-linecap:square;stroke-linejoin:miter;stroke-width:0.8;\"/>\n   </g>\n   <g id=\"patch_41\">\n    <path d=\"M 1120.410949 140.921761 \nL 1219.247312 140.921761 \n\" style=\"fill:none;stroke:#000000;stroke-linecap:square;stroke-linejoin:miter;stroke-width:0.8;\"/>\n   </g>\n   <g id=\"text_8\">\n    <!-- Shirt (Shirt) -->\n    <g style=\"fill:#008000;\" transform=\"translate(1135.046005 134.921761)scale(0.12 -0.12)\">\n     <use xlink:href=\"#DejaVuSans-83\"/>\n     <use x=\"63.476562\" xlink:href=\"#DejaVuSans-104\"/>\n     <use x=\"126.855469\" xlink:href=\"#DejaVuSans-105\"/>\n     <use x=\"154.638672\" xlink:href=\"#DejaVuSans-114\"/>\n     <use x=\"195.751953\" xlink:href=\"#DejaVuSans-116\"/>\n     <use x=\"234.960938\" xlink:href=\"#DejaVuSans-32\"/>\n     <use x=\"266.748047\" xlink:href=\"#DejaVuSans-40\"/>\n     <use x=\"305.761719\" xlink:href=\"#DejaVuSans-83\"/>\n     <use x=\"369.238281\" xlink:href=\"#DejaVuSans-104\"/>\n     <use x=\"432.617188\" xlink:href=\"#DejaVuSans-105\"/>\n     <use x=\"460.400391\" xlink:href=\"#DejaVuSans-114\"/>\n     <use x=\"501.513672\" xlink:href=\"#DejaVuSans-116\"/>\n     <use x=\"540.722656\" xlink:href=\"#DejaVuSans-41\"/>\n    </g>\n   </g>\n  </g>\n </g>\n <defs>\n  <clipPath id=\"pf7be22b5ec\">\n   <rect height=\"98.836364\" width=\"98.836364\" x=\"28.671818\" y=\"22.318125\"/>\n  </clipPath>\n  <clipPath id=\"p7980a8d5e7\">\n   <rect height=\"98.836364\" width=\"98.836364\" x=\"392.584862\" y=\"22.318125\"/>\n  </clipPath>\n  <clipPath id=\"pd3c202e66d\">\n   <rect height=\"98.836364\" width=\"98.836364\" x=\"756.497905\" y=\"22.318125\"/>\n  </clipPath>\n  <clipPath id=\"pe2bc22ee0a\">\n   <rect height=\"98.836364\" width=\"98.836364\" x=\"1120.410949\" y=\"22.318125\"/>\n  </clipPath>\n  <clipPath id=\"pcccb840cdf\">\n   <rect height=\"98.836364\" width=\"98.836364\" x=\"28.671818\" y=\"140.921761\"/>\n  </clipPath>\n  <clipPath id=\"pbf08c370ec\">\n   <rect height=\"98.836364\" width=\"98.836364\" x=\"392.584862\" y=\"140.921761\"/>\n  </clipPath>\n  <clipPath id=\"p10a855c3e2\">\n   <rect height=\"98.836364\" width=\"98.836364\" x=\"756.497905\" y=\"140.921761\"/>\n  </clipPath>\n  <clipPath id=\"pe61ca21367\">\n   <rect height=\"98.836364\" width=\"98.836364\" x=\"1120.410949\" y=\"140.921761\"/>\n  </clipPath>\n </defs>\n</svg>\n",
      "image/png": "[encoded data removed]"
     },
     "metadata": {}
    }
   ],
   "source": [
    "#obtain one batch of test images\n",
    "dataiter = iter(fashion_mnist_test_dataloader)\n",
    "images, labels = dataiter.__next__()\n",
    "images, labels = images.to(device), labels.to(device)\n",
    "\n",
    "# get sample outputs\n",
    "outputs = net(images)\n",
    "# convert output probabilites to predicted class\n",
    "_, predicted = torch.max(outputs, 1)\n",
    "\n",
    "# prep images for display\n",
    "images = images.cpu().numpy()\n",
    "\n",
    "# plot the images in the batch, along with predicted and true labels\n",
    "fig = plt.figure(figsize=(25,4))\n",
    "for idx in range(8):\n",
    "    ax = fig.add_subplot(2, 8/2, idx+1, xticks=[], yticks=[])\n",
    "    ax.imshow(np.squeeze(images[idx]), cmap='gray')\n",
    "    ax.set_title(f\"{classes[predicted[idx]]} ({classes[labels[idx]]})\",\n",
    "                color=\"green\" if predicted[idx]==labels[idx] else \"red\")"
   ]
  },
  {
   "cell_type": "markdown",
   "metadata": {
    "pycharm": {
     "name": "#%% md\n"
    }
   },
   "source": [
    "We can also show what are the classes that performed well, and the classes that did not perform well:"
   ]
  },
  {
   "cell_type": "code",
   "execution_count": 33,
   "metadata": {
    "pycharm": {
     "name": "#%%\n"
    },
    "scrolled": true,
    "tags": []
   },
   "outputs": [
    {
     "output_type": "stream",
     "name": "stdout",
     "text": "Accuracy of T-shirt/top: 81 %\nAccuracy of     Trouser: 94 %\nAccuracy of    Pullover: 77 %\nAccuracy of       Dress: 88 %\nAccuracy of        Coat: 77 %\nAccuracy of      Sandal: 88 %\nAccuracy of       Shirt: 41 %\nAccuracy of     Sneaker: 90 %\nAccuracy of         Bag: 94 %\nAccuracy of  Ankle boot: 94 %\n"
    }
   ],
   "source": [
    "class_correct = list(0. for i in range(10))\n",
    "class_total = list(0. for i in range(10))\n",
    "with torch.no_grad():\n",
    "    for data in fashion_mnist_test_dataloader:\n",
    "        images, labels = data\n",
    "        images, labels = images.to(device), labels.to(device)\n",
    "        outputs = net(images)\n",
    "        _, predicted = torch.max(outputs, 1)\n",
    "        c = (predicted == labels).squeeze()\n",
    "        for i in range(4):\n",
    "            label = labels[i]\n",
    "            class_correct[label] += c[i].item()\n",
    "            class_total[label] += 1\n",
    "\n",
    "\n",
    "for i in range(10):\n",
    "    print('Accuracy of %11s: %2d %%' % (classes[i], 100 * class_correct[i] / class_total[i]))"
   ]
  },
  {
   "cell_type": "markdown",
   "metadata": {
    "pycharm": {
     "name": "#%% md\n"
    }
   },
   "source": [
    "## Reference\n",
    "\n",
    "1. [PyTorch Tutorial](https://pytorch.org/tutorials/)\n",
    "\n",
    "2. [Fashion MNIST dataset training using PyTorch](https://medium.com/@aaysbt/fashion-mnist-data-training-using-pytorch-7f6ad71e96f4)\n",
    "\n",
    "\n"
   ]
  }
 ],
 "metadata": {
  "kernelspec": {
   "display_name": "Python 3.8.5 64-bit ('cvision': conda)",
   "language": "python",
   "name": "python_defaultSpec_1600110090977"
  },
  "language_info": {
   "codemirror_mode": {
    "name": "ipython",
    "version": 3
   },
   "file_extension": ".py",
   "mimetype": "text/x-python",
   "name": "python",
   "nbconvert_exporter": "python",
   "pygments_lexer": "ipython3",
   "version": "3.8.5-final"
  }
 },
 "nbformat": 4,
 "nbformat_minor": 1
}